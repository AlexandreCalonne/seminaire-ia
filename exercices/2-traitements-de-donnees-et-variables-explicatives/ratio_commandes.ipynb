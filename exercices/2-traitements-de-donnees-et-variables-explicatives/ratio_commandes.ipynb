{
 "cells": [
  {
   "cell_type": "code",
   "execution_count": 637,
   "metadata": {
    "collapsed": true
   },
   "outputs": [],
   "source": [
    "import os\n",
    "\n",
    "import pandas as pd\n",
    "import seaborn as sns\n",
    "import numpy as np\n",
    "import matplotlib.pyplot as plt"
   ]
  },
  {
   "cell_type": "code",
   "execution_count": 638,
   "outputs": [],
   "source": [
    "ratio = .1"
   ],
   "metadata": {
    "collapsed": false,
    "pycharm": {
     "name": "#%%\n"
    }
   }
  },
  {
   "cell_type": "code",
   "execution_count": 639,
   "outputs": [
    {
     "name": "stdout",
     "output_type": "stream",
     "text": [
      "../../data/entete.csv\n"
     ]
    }
   ],
   "source": [
    "path_data = \"../../data\"\n",
    "\n",
    "filename_entete = \"entete.csv\"\n",
    "\n",
    "# équivalent à path_data + filename_meteo et s'assure que le path est de la bonne forme\n",
    "path_data_entete = os.path.join(path_data, filename_entete)\n",
    "# affiche le chemin path_data_meteo\n",
    "print(path_data_entete)"
   ],
   "metadata": {
    "collapsed": false,
    "pycharm": {
     "name": "#%%\n"
    }
   }
  },
  {
   "cell_type": "code",
   "execution_count": 640,
   "outputs": [],
   "source": [
    "df_entete = pd.read_csv(path_data_entete, sep=\",\")"
   ],
   "metadata": {
    "collapsed": false,
    "pycharm": {
     "name": "#%%\n"
    }
   }
  },
  {
   "cell_type": "code",
   "execution_count": 641,
   "outputs": [
    {
     "data": {
      "text/plain": "          CdeNumCom TypCde  CodeClient DateCreation Gestionnaire      CAHT  \\\n0         140500651      C        2625    4/10/2018          ALU   2065.80   \n1         140600145      C        5505    4/18/2018          ALU  16960.51   \n2      140600145-03      D        5505    4/17/2018          ALU  16967.47   \n3      140901111-01      D        3796     8/1/2018          PVC   1300.41   \n4         150200732      C       10497    7/30/2018          PVC   1748.40   \n...             ...    ...         ...          ...          ...       ...   \n73992  220400749-00      D        5191    4/19/2022          ALU      0.00   \n73993  220400750-00      D       14050    4/19/2022         BOIS      0.00   \n73994     220400751      C        1378    4/19/2022          ALU      0.00   \n73995     220400752      C        2048    4/19/2022          ALU      0.00   \n73996  220400753-00      D        4294    4/19/2022          ALU      0.00   \n\n            Transfo  \n0      140500651-02  \n1      140600145-03  \n2         140600145  \n3               NaN  \n4      150200732-02  \n...             ...  \n73992           NaN  \n73993           NaN  \n73994           NaN  \n73995           NaN  \n73996           NaN  \n\n[73997 rows x 7 columns]",
      "text/html": "<div>\n<style scoped>\n    .dataframe tbody tr th:only-of-type {\n        vertical-align: middle;\n    }\n\n    .dataframe tbody tr th {\n        vertical-align: top;\n    }\n\n    .dataframe thead th {\n        text-align: right;\n    }\n</style>\n<table border=\"1\" class=\"dataframe\">\n  <thead>\n    <tr style=\"text-align: right;\">\n      <th></th>\n      <th>CdeNumCom</th>\n      <th>TypCde</th>\n      <th>CodeClient</th>\n      <th>DateCreation</th>\n      <th>Gestionnaire</th>\n      <th>CAHT</th>\n      <th>Transfo</th>\n    </tr>\n  </thead>\n  <tbody>\n    <tr>\n      <th>0</th>\n      <td>140500651</td>\n      <td>C</td>\n      <td>2625</td>\n      <td>4/10/2018</td>\n      <td>ALU</td>\n      <td>2065.80</td>\n      <td>140500651-02</td>\n    </tr>\n    <tr>\n      <th>1</th>\n      <td>140600145</td>\n      <td>C</td>\n      <td>5505</td>\n      <td>4/18/2018</td>\n      <td>ALU</td>\n      <td>16960.51</td>\n      <td>140600145-03</td>\n    </tr>\n    <tr>\n      <th>2</th>\n      <td>140600145-03</td>\n      <td>D</td>\n      <td>5505</td>\n      <td>4/17/2018</td>\n      <td>ALU</td>\n      <td>16967.47</td>\n      <td>140600145</td>\n    </tr>\n    <tr>\n      <th>3</th>\n      <td>140901111-01</td>\n      <td>D</td>\n      <td>3796</td>\n      <td>8/1/2018</td>\n      <td>PVC</td>\n      <td>1300.41</td>\n      <td>NaN</td>\n    </tr>\n    <tr>\n      <th>4</th>\n      <td>150200732</td>\n      <td>C</td>\n      <td>10497</td>\n      <td>7/30/2018</td>\n      <td>PVC</td>\n      <td>1748.40</td>\n      <td>150200732-02</td>\n    </tr>\n    <tr>\n      <th>...</th>\n      <td>...</td>\n      <td>...</td>\n      <td>...</td>\n      <td>...</td>\n      <td>...</td>\n      <td>...</td>\n      <td>...</td>\n    </tr>\n    <tr>\n      <th>73992</th>\n      <td>220400749-00</td>\n      <td>D</td>\n      <td>5191</td>\n      <td>4/19/2022</td>\n      <td>ALU</td>\n      <td>0.00</td>\n      <td>NaN</td>\n    </tr>\n    <tr>\n      <th>73993</th>\n      <td>220400750-00</td>\n      <td>D</td>\n      <td>14050</td>\n      <td>4/19/2022</td>\n      <td>BOIS</td>\n      <td>0.00</td>\n      <td>NaN</td>\n    </tr>\n    <tr>\n      <th>73994</th>\n      <td>220400751</td>\n      <td>C</td>\n      <td>1378</td>\n      <td>4/19/2022</td>\n      <td>ALU</td>\n      <td>0.00</td>\n      <td>NaN</td>\n    </tr>\n    <tr>\n      <th>73995</th>\n      <td>220400752</td>\n      <td>C</td>\n      <td>2048</td>\n      <td>4/19/2022</td>\n      <td>ALU</td>\n      <td>0.00</td>\n      <td>NaN</td>\n    </tr>\n    <tr>\n      <th>73996</th>\n      <td>220400753-00</td>\n      <td>D</td>\n      <td>4294</td>\n      <td>4/19/2022</td>\n      <td>ALU</td>\n      <td>0.00</td>\n      <td>NaN</td>\n    </tr>\n  </tbody>\n</table>\n<p>73997 rows × 7 columns</p>\n</div>"
     },
     "execution_count": 641,
     "metadata": {},
     "output_type": "execute_result"
    }
   ],
   "source": [
    "df_entete"
   ],
   "metadata": {
    "collapsed": false,
    "pycharm": {
     "name": "#%%\n"
    }
   }
  },
  {
   "cell_type": "code",
   "execution_count": 642,
   "outputs": [],
   "source": [
    "df_entete[\"NombreCommandes\"] = 0\n",
    "df_entete[\"NombreDevis\"] = 0"
   ],
   "metadata": {
    "collapsed": false,
    "pycharm": {
     "name": "#%%\n"
    }
   }
  },
  {
   "cell_type": "code",
   "execution_count": 643,
   "outputs": [
    {
     "data": {
      "text/plain": "      CodeClient  NombreCommandes\n0              1               12\n1              3               15\n2             12                1\n3             13                1\n4             22                1\n...          ...              ...\n2819       14727                1\n2820       14734                1\n2821       14738                1\n2822       14750                1\n2823       14764                1\n\n[2824 rows x 2 columns]",
      "text/html": "<div>\n<style scoped>\n    .dataframe tbody tr th:only-of-type {\n        vertical-align: middle;\n    }\n\n    .dataframe tbody tr th {\n        vertical-align: top;\n    }\n\n    .dataframe thead th {\n        text-align: right;\n    }\n</style>\n<table border=\"1\" class=\"dataframe\">\n  <thead>\n    <tr style=\"text-align: right;\">\n      <th></th>\n      <th>CodeClient</th>\n      <th>NombreCommandes</th>\n    </tr>\n  </thead>\n  <tbody>\n    <tr>\n      <th>0</th>\n      <td>1</td>\n      <td>12</td>\n    </tr>\n    <tr>\n      <th>1</th>\n      <td>3</td>\n      <td>15</td>\n    </tr>\n    <tr>\n      <th>2</th>\n      <td>12</td>\n      <td>1</td>\n    </tr>\n    <tr>\n      <th>3</th>\n      <td>13</td>\n      <td>1</td>\n    </tr>\n    <tr>\n      <th>4</th>\n      <td>22</td>\n      <td>1</td>\n    </tr>\n    <tr>\n      <th>...</th>\n      <td>...</td>\n      <td>...</td>\n    </tr>\n    <tr>\n      <th>2819</th>\n      <td>14727</td>\n      <td>1</td>\n    </tr>\n    <tr>\n      <th>2820</th>\n      <td>14734</td>\n      <td>1</td>\n    </tr>\n    <tr>\n      <th>2821</th>\n      <td>14738</td>\n      <td>1</td>\n    </tr>\n    <tr>\n      <th>2822</th>\n      <td>14750</td>\n      <td>1</td>\n    </tr>\n    <tr>\n      <th>2823</th>\n      <td>14764</td>\n      <td>1</td>\n    </tr>\n  </tbody>\n</table>\n<p>2824 rows × 2 columns</p>\n</div>"
     },
     "execution_count": 643,
     "metadata": {},
     "output_type": "execute_result"
    }
   ],
   "source": [
    "df_entete_commandes = df_entete.loc[\n",
    "    df_entete[\"TypCde\"] == \"C\"\n",
    "].groupby(\"CodeClient\")[\"NombreCommandes\"].count().reset_index()\n",
    "\n",
    "df_entete_commandes"
   ],
   "metadata": {
    "collapsed": false,
    "pycharm": {
     "name": "#%%\n"
    }
   }
  },
  {
   "cell_type": "code",
   "execution_count": 644,
   "outputs": [
    {
     "data": {
      "text/plain": "      CodeClient  NombreDevis\n0              1           31\n1              3           26\n2              5            3\n3             12            1\n4             13            1\n...          ...          ...\n4252       14763            2\n4253       14765            1\n4254       14766            1\n4255       14768            1\n4256       99998            5\n\n[4257 rows x 2 columns]",
      "text/html": "<div>\n<style scoped>\n    .dataframe tbody tr th:only-of-type {\n        vertical-align: middle;\n    }\n\n    .dataframe tbody tr th {\n        vertical-align: top;\n    }\n\n    .dataframe thead th {\n        text-align: right;\n    }\n</style>\n<table border=\"1\" class=\"dataframe\">\n  <thead>\n    <tr style=\"text-align: right;\">\n      <th></th>\n      <th>CodeClient</th>\n      <th>NombreDevis</th>\n    </tr>\n  </thead>\n  <tbody>\n    <tr>\n      <th>0</th>\n      <td>1</td>\n      <td>31</td>\n    </tr>\n    <tr>\n      <th>1</th>\n      <td>3</td>\n      <td>26</td>\n    </tr>\n    <tr>\n      <th>2</th>\n      <td>5</td>\n      <td>3</td>\n    </tr>\n    <tr>\n      <th>3</th>\n      <td>12</td>\n      <td>1</td>\n    </tr>\n    <tr>\n      <th>4</th>\n      <td>13</td>\n      <td>1</td>\n    </tr>\n    <tr>\n      <th>...</th>\n      <td>...</td>\n      <td>...</td>\n    </tr>\n    <tr>\n      <th>4252</th>\n      <td>14763</td>\n      <td>2</td>\n    </tr>\n    <tr>\n      <th>4253</th>\n      <td>14765</td>\n      <td>1</td>\n    </tr>\n    <tr>\n      <th>4254</th>\n      <td>14766</td>\n      <td>1</td>\n    </tr>\n    <tr>\n      <th>4255</th>\n      <td>14768</td>\n      <td>1</td>\n    </tr>\n    <tr>\n      <th>4256</th>\n      <td>99998</td>\n      <td>5</td>\n    </tr>\n  </tbody>\n</table>\n<p>4257 rows × 2 columns</p>\n</div>"
     },
     "execution_count": 644,
     "metadata": {},
     "output_type": "execute_result"
    }
   ],
   "source": [
    "df_entete_devis = df_entete.loc[\n",
    "    df_entete[\"TypCde\"] == \"D\"\n",
    "].groupby(\"CodeClient\")[\"NombreDevis\"].count().reset_index()\n",
    "\n",
    "df_entete_devis"
   ],
   "metadata": {
    "collapsed": false,
    "pycharm": {
     "name": "#%%\n"
    }
   }
  },
  {
   "cell_type": "code",
   "execution_count": 645,
   "outputs": [
    {
     "data": {
      "text/plain": "      CodeClient  NombreCommandes  NombreDevis\n0              1               12           31\n1              3               15           26\n2              5                0            3\n3             12                1            1\n4             13                1            1\n...          ...              ...          ...\n4252       14763                0            2\n4253       14765                0            1\n4254       14766                0            1\n4255       14768                0            1\n4256       99998                0            5\n\n[4257 rows x 3 columns]",
      "text/html": "<div>\n<style scoped>\n    .dataframe tbody tr th:only-of-type {\n        vertical-align: middle;\n    }\n\n    .dataframe tbody tr th {\n        vertical-align: top;\n    }\n\n    .dataframe thead th {\n        text-align: right;\n    }\n</style>\n<table border=\"1\" class=\"dataframe\">\n  <thead>\n    <tr style=\"text-align: right;\">\n      <th></th>\n      <th>CodeClient</th>\n      <th>NombreCommandes</th>\n      <th>NombreDevis</th>\n    </tr>\n  </thead>\n  <tbody>\n    <tr>\n      <th>0</th>\n      <td>1</td>\n      <td>12</td>\n      <td>31</td>\n    </tr>\n    <tr>\n      <th>1</th>\n      <td>3</td>\n      <td>15</td>\n      <td>26</td>\n    </tr>\n    <tr>\n      <th>2</th>\n      <td>5</td>\n      <td>0</td>\n      <td>3</td>\n    </tr>\n    <tr>\n      <th>3</th>\n      <td>12</td>\n      <td>1</td>\n      <td>1</td>\n    </tr>\n    <tr>\n      <th>4</th>\n      <td>13</td>\n      <td>1</td>\n      <td>1</td>\n    </tr>\n    <tr>\n      <th>...</th>\n      <td>...</td>\n      <td>...</td>\n      <td>...</td>\n    </tr>\n    <tr>\n      <th>4252</th>\n      <td>14763</td>\n      <td>0</td>\n      <td>2</td>\n    </tr>\n    <tr>\n      <th>4253</th>\n      <td>14765</td>\n      <td>0</td>\n      <td>1</td>\n    </tr>\n    <tr>\n      <th>4254</th>\n      <td>14766</td>\n      <td>0</td>\n      <td>1</td>\n    </tr>\n    <tr>\n      <th>4255</th>\n      <td>14768</td>\n      <td>0</td>\n      <td>1</td>\n    </tr>\n    <tr>\n      <th>4256</th>\n      <td>99998</td>\n      <td>0</td>\n      <td>5</td>\n    </tr>\n  </tbody>\n</table>\n<p>4257 rows × 3 columns</p>\n</div>"
     },
     "execution_count": 645,
     "metadata": {},
     "output_type": "execute_result"
    }
   ],
   "source": [
    "df_entete_group = pd.merge(df_entete_commandes, df_entete_devis, how='right', on = 'CodeClient')\n",
    "\n",
    "df_entete_group[\"NombreCommandes\"] = df_entete_group[\"NombreCommandes\"].fillna(0)\n",
    "df_entete_group[\"NombreDevis\"] = df_entete_group[\"NombreDevis\"].fillna(0)\n",
    "\n",
    "df_entete_group = df_entete_group.astype({\n",
    "    \"CodeClient\": int,\n",
    "    \"NombreCommandes\": int,\n",
    "    \"NombreDevis\": int\n",
    "})\n",
    "\n",
    "df_entete_group"
   ],
   "metadata": {
    "collapsed": false,
    "pycharm": {
     "name": "#%%\n"
    }
   }
  },
  {
   "cell_type": "code",
   "execution_count": 646,
   "outputs": [
    {
     "data": {
      "text/plain": "      CodeClient  NombreCommandes  NombreDevis     Ratio\n0              1               12           31  0.387097\n1              3               15           26  0.576923\n2              5                0            3  0.000000\n3             12                1            1  1.000000\n4             13                1            1  1.000000\n...          ...              ...          ...       ...\n4252       14763                0            2  0.000000\n4253       14765                0            1  0.000000\n4254       14766                0            1  0.000000\n4255       14768                0            1  0.000000\n4256       99998                0            5  0.000000\n\n[4257 rows x 4 columns]",
      "text/html": "<div>\n<style scoped>\n    .dataframe tbody tr th:only-of-type {\n        vertical-align: middle;\n    }\n\n    .dataframe tbody tr th {\n        vertical-align: top;\n    }\n\n    .dataframe thead th {\n        text-align: right;\n    }\n</style>\n<table border=\"1\" class=\"dataframe\">\n  <thead>\n    <tr style=\"text-align: right;\">\n      <th></th>\n      <th>CodeClient</th>\n      <th>NombreCommandes</th>\n      <th>NombreDevis</th>\n      <th>Ratio</th>\n    </tr>\n  </thead>\n  <tbody>\n    <tr>\n      <th>0</th>\n      <td>1</td>\n      <td>12</td>\n      <td>31</td>\n      <td>0.387097</td>\n    </tr>\n    <tr>\n      <th>1</th>\n      <td>3</td>\n      <td>15</td>\n      <td>26</td>\n      <td>0.576923</td>\n    </tr>\n    <tr>\n      <th>2</th>\n      <td>5</td>\n      <td>0</td>\n      <td>3</td>\n      <td>0.000000</td>\n    </tr>\n    <tr>\n      <th>3</th>\n      <td>12</td>\n      <td>1</td>\n      <td>1</td>\n      <td>1.000000</td>\n    </tr>\n    <tr>\n      <th>4</th>\n      <td>13</td>\n      <td>1</td>\n      <td>1</td>\n      <td>1.000000</td>\n    </tr>\n    <tr>\n      <th>...</th>\n      <td>...</td>\n      <td>...</td>\n      <td>...</td>\n      <td>...</td>\n    </tr>\n    <tr>\n      <th>4252</th>\n      <td>14763</td>\n      <td>0</td>\n      <td>2</td>\n      <td>0.000000</td>\n    </tr>\n    <tr>\n      <th>4253</th>\n      <td>14765</td>\n      <td>0</td>\n      <td>1</td>\n      <td>0.000000</td>\n    </tr>\n    <tr>\n      <th>4254</th>\n      <td>14766</td>\n      <td>0</td>\n      <td>1</td>\n      <td>0.000000</td>\n    </tr>\n    <tr>\n      <th>4255</th>\n      <td>14768</td>\n      <td>0</td>\n      <td>1</td>\n      <td>0.000000</td>\n    </tr>\n    <tr>\n      <th>4256</th>\n      <td>99998</td>\n      <td>0</td>\n      <td>5</td>\n      <td>0.000000</td>\n    </tr>\n  </tbody>\n</table>\n<p>4257 rows × 4 columns</p>\n</div>"
     },
     "execution_count": 646,
     "metadata": {},
     "output_type": "execute_result"
    }
   ],
   "source": [
    "df_entete_group[\"Ratio\"] = df_entete_group[\"NombreCommandes\"] / df_entete_group[\"NombreDev  is\"]\n",
    "\n",
    "df_entete_group"
   ],
   "metadata": {
    "collapsed": false,
    "pycharm": {
     "name": "#%%\n"
    }
   }
  },
  {
   "cell_type": "code",
   "execution_count": 647,
   "outputs": [
    {
     "data": {
      "text/plain": "      CodeClient  NombreCommandes  NombreDevis  Ratio\n2              5                0            3    0.0\n5             16                0            3    0.0\n11            37                0            1    0.0\n17            51                0            4    0.0\n32            96                0            1    0.0\n...          ...              ...          ...    ...\n4252       14763                0            2    0.0\n4253       14765                0            1    0.0\n4254       14766                0            1    0.0\n4255       14768                0            1    0.0\n4256       99998                0            5    0.0\n\n[1846 rows x 4 columns]",
      "text/html": "<div>\n<style scoped>\n    .dataframe tbody tr th:only-of-type {\n        vertical-align: middle;\n    }\n\n    .dataframe tbody tr th {\n        vertical-align: top;\n    }\n\n    .dataframe thead th {\n        text-align: right;\n    }\n</style>\n<table border=\"1\" class=\"dataframe\">\n  <thead>\n    <tr style=\"text-align: right;\">\n      <th></th>\n      <th>CodeClient</th>\n      <th>NombreCommandes</th>\n      <th>NombreDevis</th>\n      <th>Ratio</th>\n    </tr>\n  </thead>\n  <tbody>\n    <tr>\n      <th>2</th>\n      <td>5</td>\n      <td>0</td>\n      <td>3</td>\n      <td>0.0</td>\n    </tr>\n    <tr>\n      <th>5</th>\n      <td>16</td>\n      <td>0</td>\n      <td>3</td>\n      <td>0.0</td>\n    </tr>\n    <tr>\n      <th>11</th>\n      <td>37</td>\n      <td>0</td>\n      <td>1</td>\n      <td>0.0</td>\n    </tr>\n    <tr>\n      <th>17</th>\n      <td>51</td>\n      <td>0</td>\n      <td>4</td>\n      <td>0.0</td>\n    </tr>\n    <tr>\n      <th>32</th>\n      <td>96</td>\n      <td>0</td>\n      <td>1</td>\n      <td>0.0</td>\n    </tr>\n    <tr>\n      <th>...</th>\n      <td>...</td>\n      <td>...</td>\n      <td>...</td>\n      <td>...</td>\n    </tr>\n    <tr>\n      <th>4252</th>\n      <td>14763</td>\n      <td>0</td>\n      <td>2</td>\n      <td>0.0</td>\n    </tr>\n    <tr>\n      <th>4253</th>\n      <td>14765</td>\n      <td>0</td>\n      <td>1</td>\n      <td>0.0</td>\n    </tr>\n    <tr>\n      <th>4254</th>\n      <td>14766</td>\n      <td>0</td>\n      <td>1</td>\n      <td>0.0</td>\n    </tr>\n    <tr>\n      <th>4255</th>\n      <td>14768</td>\n      <td>0</td>\n      <td>1</td>\n      <td>0.0</td>\n    </tr>\n    <tr>\n      <th>4256</th>\n      <td>99998</td>\n      <td>0</td>\n      <td>5</td>\n      <td>0.0</td>\n    </tr>\n  </tbody>\n</table>\n<p>1846 rows × 4 columns</p>\n</div>"
     },
     "execution_count": 647,
     "metadata": {},
     "output_type": "execute_result"
    }
   ],
   "source": [
    "df_entete_group.loc[\n",
    "    df_entete_group[\"Ratio\"] < ratio\n",
    "]"
   ],
   "metadata": {
    "collapsed": false,
    "pycharm": {
     "name": "#%%\n"
    }
   }
  }
 ],
 "metadata": {
  "kernelspec": {
   "display_name": "Python 3",
   "language": "python",
   "name": "python3"
  },
  "language_info": {
   "codemirror_mode": {
    "name": "ipython",
    "version": 2
   },
   "file_extension": ".py",
   "mimetype": "text/x-python",
   "name": "python",
   "nbconvert_exporter": "python",
   "pygments_lexer": "ipython2",
   "version": "2.7.6"
  }
 },
 "nbformat": 4,
 "nbformat_minor": 0
}