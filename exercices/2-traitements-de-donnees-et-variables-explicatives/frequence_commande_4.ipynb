{
 "cells": [
  {
   "cell_type": "code",
   "execution_count": 232,
   "metadata": {
    "collapsed": true
   },
   "outputs": [],
   "source": [
    "import os\n",
    "\n",
    "import pytz\n",
    "import pandas as pd\n",
    "import seaborn as sns\n",
    "import numpy as np\n",
    "import matplotlib.pyplot as plt\n",
    "import re\n",
    "import matplotlib\n",
    "\n",
    "from sklearn import cluster\n",
    "from random import randint"
   ]
  },
  {
   "cell_type": "code",
   "execution_count": 214,
   "outputs": [],
   "source": [
    "sns.color_palette(\"crest\", as_cmap=True)\n",
    "sns.set_palette(\"crest\")"
   ],
   "metadata": {
    "collapsed": false,
    "pycharm": {
     "name": "#%%\n"
    }
   }
  },
  {
   "cell_type": "code",
   "execution_count": 215,
   "outputs": [
    {
     "name": "stdout",
     "output_type": "stream",
     "text": [
      "../../data/entete.csv\n"
     ]
    }
   ],
   "source": [
    "path_data = \"../../data\"\n",
    "\n",
    "filename_entete = \"entete.csv\"\n",
    "\n",
    "# équivalent à path_data + filename_meteo et s'assure que le path est de la bonne forme\n",
    "path_data_entete = os.path.join(path_data, filename_entete)\n",
    "# affiche le chemin path_data_meteo\n",
    "print(path_data_entete)"
   ],
   "metadata": {
    "collapsed": false,
    "pycharm": {
     "name": "#%%\n"
    }
   }
  },
  {
   "cell_type": "code",
   "execution_count": 216,
   "outputs": [
    {
     "data": {
      "text/plain": "      DateCreation  CodeClient\n12045   2018-11-12           1\n40737   2020-07-30           1\n39220   2020-09-10           1\n51644   2021-02-12           1\n56433   2021-05-03           1\n...            ...         ...\n72105   2022-03-10       14709\n72832   2022-04-06       14727\n72525   2022-04-07       14734\n73029   2022-04-05       14738\n73912   2022-04-14       14764\n\n[20123 rows x 2 columns]",
      "text/html": "<div>\n<style scoped>\n    .dataframe tbody tr th:only-of-type {\n        vertical-align: middle;\n    }\n\n    .dataframe tbody tr th {\n        vertical-align: top;\n    }\n\n    .dataframe thead th {\n        text-align: right;\n    }\n</style>\n<table border=\"1\" class=\"dataframe\">\n  <thead>\n    <tr style=\"text-align: right;\">\n      <th></th>\n      <th>DateCreation</th>\n      <th>CodeClient</th>\n    </tr>\n  </thead>\n  <tbody>\n    <tr>\n      <th>12045</th>\n      <td>2018-11-12</td>\n      <td>1</td>\n    </tr>\n    <tr>\n      <th>40737</th>\n      <td>2020-07-30</td>\n      <td>1</td>\n    </tr>\n    <tr>\n      <th>39220</th>\n      <td>2020-09-10</td>\n      <td>1</td>\n    </tr>\n    <tr>\n      <th>51644</th>\n      <td>2021-02-12</td>\n      <td>1</td>\n    </tr>\n    <tr>\n      <th>56433</th>\n      <td>2021-05-03</td>\n      <td>1</td>\n    </tr>\n    <tr>\n      <th>...</th>\n      <td>...</td>\n      <td>...</td>\n    </tr>\n    <tr>\n      <th>72105</th>\n      <td>2022-03-10</td>\n      <td>14709</td>\n    </tr>\n    <tr>\n      <th>72832</th>\n      <td>2022-04-06</td>\n      <td>14727</td>\n    </tr>\n    <tr>\n      <th>72525</th>\n      <td>2022-04-07</td>\n      <td>14734</td>\n    </tr>\n    <tr>\n      <th>73029</th>\n      <td>2022-04-05</td>\n      <td>14738</td>\n    </tr>\n    <tr>\n      <th>73912</th>\n      <td>2022-04-14</td>\n      <td>14764</td>\n    </tr>\n  </tbody>\n</table>\n<p>20123 rows × 2 columns</p>\n</div>"
     },
     "execution_count": 216,
     "metadata": {},
     "output_type": "execute_result"
    }
   ],
   "source": [
    "df_entete = pd.read_csv(path_data_entete, sep=\",\")\n",
    "\n",
    "df_entete = df_entete.loc[\n",
    "    (df_entete[\"TypCde\"] == \"C\") & (df_entete[\"CAHT\"] > 0)\n",
    "]\n",
    "\n",
    "df_entete[\"DateCreation\"] = df_entete[\"DateCreation\"].astype('datetime64')\n",
    "\n",
    "df_entete = df_entete[{\"CodeClient\", \"DateCreation\"}].sort_values(['CodeClient', 'DateCreation'])\n",
    "\n",
    "df_entete"
   ],
   "metadata": {
    "collapsed": false,
    "pycharm": {
     "name": "#%%\n"
    }
   }
  },
  {
   "cell_type": "code",
   "execution_count": 217,
   "outputs": [
    {
     "data": {
      "text/plain": "DateCreation    datetime64[ns]\nCodeClient               int64\ndtype: object"
     },
     "execution_count": 217,
     "metadata": {},
     "output_type": "execute_result"
    }
   ],
   "source": [
    "df_entete.dtypes"
   ],
   "metadata": {
    "collapsed": false,
    "pycharm": {
     "name": "#%%\n"
    }
   }
  },
  {
   "cell_type": "code",
   "execution_count": 218,
   "outputs": [
    {
     "name": "stderr",
     "output_type": "stream",
     "text": [
      "/var/folders/36/43f3rdln6_jby4rr0llzz6yh0000gn/T/ipykernel_28479/3077096763.py:3: SettingWithCopyWarning: \n",
      "A value is trying to be set on a copy of a slice from a DataFrame.\n",
      "Try using .loc[row_indexer,col_indexer] = value instead\n",
      "\n",
      "See the caveats in the documentation: https://pandas.pydata.org/pandas-docs/stable/user_guide/indexing.html#returning-a-view-versus-a-copy\n",
      "  df_duplicates[\"DateCreation\"] = pd.to_datetime('2022-04-19')\n"
     ]
    },
    {
     "data": {
      "text/plain": "      DateCreation  CodeClient\n12045   2018-11-12           1\n40737   2020-07-30           1\n39220   2020-09-10           1\n51644   2021-02-12           1\n56433   2021-05-03           1\n...            ...         ...\n72105   2022-04-19       14709\n72832   2022-04-19       14727\n72525   2022-04-19       14734\n73029   2022-04-19       14738\n73912   2022-04-19       14764\n\n[21202 rows x 2 columns]",
      "text/html": "<div>\n<style scoped>\n    .dataframe tbody tr th:only-of-type {\n        vertical-align: middle;\n    }\n\n    .dataframe tbody tr th {\n        vertical-align: top;\n    }\n\n    .dataframe thead th {\n        text-align: right;\n    }\n</style>\n<table border=\"1\" class=\"dataframe\">\n  <thead>\n    <tr style=\"text-align: right;\">\n      <th></th>\n      <th>DateCreation</th>\n      <th>CodeClient</th>\n    </tr>\n  </thead>\n  <tbody>\n    <tr>\n      <th>12045</th>\n      <td>2018-11-12</td>\n      <td>1</td>\n    </tr>\n    <tr>\n      <th>40737</th>\n      <td>2020-07-30</td>\n      <td>1</td>\n    </tr>\n    <tr>\n      <th>39220</th>\n      <td>2020-09-10</td>\n      <td>1</td>\n    </tr>\n    <tr>\n      <th>51644</th>\n      <td>2021-02-12</td>\n      <td>1</td>\n    </tr>\n    <tr>\n      <th>56433</th>\n      <td>2021-05-03</td>\n      <td>1</td>\n    </tr>\n    <tr>\n      <th>...</th>\n      <td>...</td>\n      <td>...</td>\n    </tr>\n    <tr>\n      <th>72105</th>\n      <td>2022-04-19</td>\n      <td>14709</td>\n    </tr>\n    <tr>\n      <th>72832</th>\n      <td>2022-04-19</td>\n      <td>14727</td>\n    </tr>\n    <tr>\n      <th>72525</th>\n      <td>2022-04-19</td>\n      <td>14734</td>\n    </tr>\n    <tr>\n      <th>73029</th>\n      <td>2022-04-19</td>\n      <td>14738</td>\n    </tr>\n    <tr>\n      <th>73912</th>\n      <td>2022-04-19</td>\n      <td>14764</td>\n    </tr>\n  </tbody>\n</table>\n<p>21202 rows × 2 columns</p>\n</div>"
     },
     "execution_count": 218,
     "metadata": {},
     "output_type": "execute_result"
    }
   ],
   "source": [
    "df_duplicates = df_entete.drop_duplicates(subset=['CodeClient'], keep=False)\n",
    "\n",
    "df_duplicates[\"DateCreation\"] = pd.to_datetime('2022-04-19')\n",
    "\n",
    "df_entete = df_entete.append(df_duplicates)\n",
    "\n",
    "df_entete['DateCreation'].apply(lambda x: x.replace(tzinfo=None))\n",
    "\n",
    "df_entete"
   ],
   "metadata": {
    "collapsed": false,
    "pycharm": {
     "name": "#%%\n"
    }
   }
  },
  {
   "cell_type": "code",
   "execution_count": 219,
   "outputs": [
    {
     "data": {
      "text/plain": "      CodeClient    Frequence\n0              1   149.750000\n1              3   100.857143\n2             12   370.000000\n3             13   708.000000\n4             22  1310.000000\n...          ...          ...\n2793       14709    40.000000\n2794       14727    13.000000\n2795       14734    12.000000\n2796       14738    14.000000\n2797       14764     5.000000\n\n[2798 rows x 2 columns]",
      "text/html": "<div>\n<style scoped>\n    .dataframe tbody tr th:only-of-type {\n        vertical-align: middle;\n    }\n\n    .dataframe tbody tr th {\n        vertical-align: top;\n    }\n\n    .dataframe thead th {\n        text-align: right;\n    }\n</style>\n<table border=\"1\" class=\"dataframe\">\n  <thead>\n    <tr style=\"text-align: right;\">\n      <th></th>\n      <th>CodeClient</th>\n      <th>Frequence</th>\n    </tr>\n  </thead>\n  <tbody>\n    <tr>\n      <th>0</th>\n      <td>1</td>\n      <td>149.750000</td>\n    </tr>\n    <tr>\n      <th>1</th>\n      <td>3</td>\n      <td>100.857143</td>\n    </tr>\n    <tr>\n      <th>2</th>\n      <td>12</td>\n      <td>370.000000</td>\n    </tr>\n    <tr>\n      <th>3</th>\n      <td>13</td>\n      <td>708.000000</td>\n    </tr>\n    <tr>\n      <th>4</th>\n      <td>22</td>\n      <td>1310.000000</td>\n    </tr>\n    <tr>\n      <th>...</th>\n      <td>...</td>\n      <td>...</td>\n    </tr>\n    <tr>\n      <th>2793</th>\n      <td>14709</td>\n      <td>40.000000</td>\n    </tr>\n    <tr>\n      <th>2794</th>\n      <td>14727</td>\n      <td>13.000000</td>\n    </tr>\n    <tr>\n      <th>2795</th>\n      <td>14734</td>\n      <td>12.000000</td>\n    </tr>\n    <tr>\n      <th>2796</th>\n      <td>14738</td>\n      <td>14.000000</td>\n    </tr>\n    <tr>\n      <th>2797</th>\n      <td>14764</td>\n      <td>5.000000</td>\n    </tr>\n  </tbody>\n</table>\n<p>2798 rows × 2 columns</p>\n</div>"
     },
     "execution_count": 219,
     "metadata": {},
     "output_type": "execute_result"
    }
   ],
   "source": [
    "df_frequence = df_entete.groupby(\"CodeClient\").apply(lambda x: x[\"DateCreation\"].diff().astype('timedelta64[D]', errors='ignore').mean(skipna=True)).reset_index()\n",
    "\n",
    "df_frequence.columns = [\"CodeClient\", \"Frequence\"]\n",
    "\n",
    "df_frequence"
   ],
   "metadata": {
    "collapsed": false,
    "pycharm": {
     "name": "#%%\n"
    }
   }
  },
  {
   "cell_type": "code",
   "execution_count": 220,
   "outputs": [
    {
     "data": {
      "text/plain": "         Frequences  Nombre\n4           (0, 30)     173\n3          (30, 90)     341\n2         (90, 180)     532\n1        (180, 365)     591\n0  (365, 999999999)    1161",
      "text/html": "<div>\n<style scoped>\n    .dataframe tbody tr th:only-of-type {\n        vertical-align: middle;\n    }\n\n    .dataframe tbody tr th {\n        vertical-align: top;\n    }\n\n    .dataframe thead th {\n        text-align: right;\n    }\n</style>\n<table border=\"1\" class=\"dataframe\">\n  <thead>\n    <tr style=\"text-align: right;\">\n      <th></th>\n      <th>Frequences</th>\n      <th>Nombre</th>\n    </tr>\n  </thead>\n  <tbody>\n    <tr>\n      <th>4</th>\n      <td>(0, 30)</td>\n      <td>173</td>\n    </tr>\n    <tr>\n      <th>3</th>\n      <td>(30, 90)</td>\n      <td>341</td>\n    </tr>\n    <tr>\n      <th>2</th>\n      <td>(90, 180)</td>\n      <td>532</td>\n    </tr>\n    <tr>\n      <th>1</th>\n      <td>(180, 365)</td>\n      <td>591</td>\n    </tr>\n    <tr>\n      <th>0</th>\n      <td>(365, 999999999)</td>\n      <td>1161</td>\n    </tr>\n  </tbody>\n</table>\n</div>"
     },
     "execution_count": 220,
     "metadata": {},
     "output_type": "execute_result"
    }
   ],
   "source": [
    "df_frequence_bins = df_frequence['Frequence'].value_counts(bins = [0, 30, 90, 180, 365, 999999999]).reset_index().rename(columns={'index': 'Frequences', 'Frequence': 'Nombre'}).sort_values([\"Frequences\"])\n",
    "\n",
    "df_frequence_bins['Frequences'] = [(round(x.left), round(x.right)) for x in df_frequence_bins['Frequences']]\n",
    "\n",
    "df_frequence_bins"
   ],
   "metadata": {
    "collapsed": false,
    "pycharm": {
     "name": "#%%\n"
    }
   }
  },
  {
   "cell_type": "code",
   "execution_count": 221,
   "outputs": [
    {
     "data": {
      "text/plain": "           CAHT  CodeClient\n0       2065.80        2625\n1      16960.51        5505\n4       1748.40       10497\n8      17951.01       10721\n10      2083.47        1826\n...         ...         ...\n73958    816.56        2334\n73973    313.88         219\n73976    565.75       10510\n73977    650.48        9977\n73979   1077.47       14661\n\n[20123 rows x 2 columns]",
      "text/html": "<div>\n<style scoped>\n    .dataframe tbody tr th:only-of-type {\n        vertical-align: middle;\n    }\n\n    .dataframe tbody tr th {\n        vertical-align: top;\n    }\n\n    .dataframe thead th {\n        text-align: right;\n    }\n</style>\n<table border=\"1\" class=\"dataframe\">\n  <thead>\n    <tr style=\"text-align: right;\">\n      <th></th>\n      <th>CAHT</th>\n      <th>CodeClient</th>\n    </tr>\n  </thead>\n  <tbody>\n    <tr>\n      <th>0</th>\n      <td>2065.80</td>\n      <td>2625</td>\n    </tr>\n    <tr>\n      <th>1</th>\n      <td>16960.51</td>\n      <td>5505</td>\n    </tr>\n    <tr>\n      <th>4</th>\n      <td>1748.40</td>\n      <td>10497</td>\n    </tr>\n    <tr>\n      <th>8</th>\n      <td>17951.01</td>\n      <td>10721</td>\n    </tr>\n    <tr>\n      <th>10</th>\n      <td>2083.47</td>\n      <td>1826</td>\n    </tr>\n    <tr>\n      <th>...</th>\n      <td>...</td>\n      <td>...</td>\n    </tr>\n    <tr>\n      <th>73958</th>\n      <td>816.56</td>\n      <td>2334</td>\n    </tr>\n    <tr>\n      <th>73973</th>\n      <td>313.88</td>\n      <td>219</td>\n    </tr>\n    <tr>\n      <th>73976</th>\n      <td>565.75</td>\n      <td>10510</td>\n    </tr>\n    <tr>\n      <th>73977</th>\n      <td>650.48</td>\n      <td>9977</td>\n    </tr>\n    <tr>\n      <th>73979</th>\n      <td>1077.47</td>\n      <td>14661</td>\n    </tr>\n  </tbody>\n</table>\n<p>20123 rows × 2 columns</p>\n</div>"
     },
     "execution_count": 221,
     "metadata": {},
     "output_type": "execute_result"
    }
   ],
   "source": [
    "df_ca = pd.read_csv(path_data_entete, sep=\",\")\n",
    "\n",
    "df_ca = df_ca .loc[\n",
    "    (df_ca[\"TypCde\"] == \"C\") & (df_ca[\"CAHT\"] > 0)\n",
    "]\n",
    "\n",
    "df_ca  = df_ca [{\"CodeClient\", \"CAHT\"}]\n",
    "\n",
    "df_ca"
   ],
   "metadata": {
    "collapsed": false,
    "pycharm": {
     "name": "#%%\n"
    }
   }
  },
  {
   "cell_type": "code",
   "execution_count": 222,
   "outputs": [
    {
     "data": {
      "text/plain": "      CodeClient         CAHT\n0              1   556.491111\n1              3  2126.936667\n2             12  2889.900000\n3             13  1135.780000\n4             22  2253.280000\n...          ...          ...\n2793       14709  3829.410000\n2794       14727  1384.460000\n2795       14734  5458.580000\n2796       14738   460.340000\n2797       14764   305.640000\n\n[2798 rows x 2 columns]",
      "text/html": "<div>\n<style scoped>\n    .dataframe tbody tr th:only-of-type {\n        vertical-align: middle;\n    }\n\n    .dataframe tbody tr th {\n        vertical-align: top;\n    }\n\n    .dataframe thead th {\n        text-align: right;\n    }\n</style>\n<table border=\"1\" class=\"dataframe\">\n  <thead>\n    <tr style=\"text-align: right;\">\n      <th></th>\n      <th>CodeClient</th>\n      <th>CAHT</th>\n    </tr>\n  </thead>\n  <tbody>\n    <tr>\n      <th>0</th>\n      <td>1</td>\n      <td>556.491111</td>\n    </tr>\n    <tr>\n      <th>1</th>\n      <td>3</td>\n      <td>2126.936667</td>\n    </tr>\n    <tr>\n      <th>2</th>\n      <td>12</td>\n      <td>2889.900000</td>\n    </tr>\n    <tr>\n      <th>3</th>\n      <td>13</td>\n      <td>1135.780000</td>\n    </tr>\n    <tr>\n      <th>4</th>\n      <td>22</td>\n      <td>2253.280000</td>\n    </tr>\n    <tr>\n      <th>...</th>\n      <td>...</td>\n      <td>...</td>\n    </tr>\n    <tr>\n      <th>2793</th>\n      <td>14709</td>\n      <td>3829.410000</td>\n    </tr>\n    <tr>\n      <th>2794</th>\n      <td>14727</td>\n      <td>1384.460000</td>\n    </tr>\n    <tr>\n      <th>2795</th>\n      <td>14734</td>\n      <td>5458.580000</td>\n    </tr>\n    <tr>\n      <th>2796</th>\n      <td>14738</td>\n      <td>460.340000</td>\n    </tr>\n    <tr>\n      <th>2797</th>\n      <td>14764</td>\n      <td>305.640000</td>\n    </tr>\n  </tbody>\n</table>\n<p>2798 rows × 2 columns</p>\n</div>"
     },
     "execution_count": 222,
     "metadata": {},
     "output_type": "execute_result"
    }
   ],
   "source": [
    "df_ca = df_ca.groupby(\"CodeClient\")[\"CAHT\"].mean().reset_index()\n",
    "\n",
    "df_ca"
   ],
   "metadata": {
    "collapsed": false,
    "pycharm": {
     "name": "#%%\n"
    }
   }
  },
  {
   "cell_type": "code",
   "execution_count": 223,
   "outputs": [
    {
     "data": {
      "text/plain": "                CAHTs  Nombre\n2            (0, 500)     564\n1         (500, 1000)    1028\n0        (1000, 5000)    1097\n3       (5000, 20000)      96\n4  (20000, 999999999)      13",
      "text/html": "<div>\n<style scoped>\n    .dataframe tbody tr th:only-of-type {\n        vertical-align: middle;\n    }\n\n    .dataframe tbody tr th {\n        vertical-align: top;\n    }\n\n    .dataframe thead th {\n        text-align: right;\n    }\n</style>\n<table border=\"1\" class=\"dataframe\">\n  <thead>\n    <tr style=\"text-align: right;\">\n      <th></th>\n      <th>CAHTs</th>\n      <th>Nombre</th>\n    </tr>\n  </thead>\n  <tbody>\n    <tr>\n      <th>2</th>\n      <td>(0, 500)</td>\n      <td>564</td>\n    </tr>\n    <tr>\n      <th>1</th>\n      <td>(500, 1000)</td>\n      <td>1028</td>\n    </tr>\n    <tr>\n      <th>0</th>\n      <td>(1000, 5000)</td>\n      <td>1097</td>\n    </tr>\n    <tr>\n      <th>3</th>\n      <td>(5000, 20000)</td>\n      <td>96</td>\n    </tr>\n    <tr>\n      <th>4</th>\n      <td>(20000, 999999999)</td>\n      <td>13</td>\n    </tr>\n  </tbody>\n</table>\n</div>"
     },
     "execution_count": 223,
     "metadata": {},
     "output_type": "execute_result"
    }
   ],
   "source": [
    "df_ca_bins = df_ca['CAHT'].value_counts(bins = [0, 500, 1000, 5000, 20000, 999999999]).reset_index().rename(columns={'index': 'CAHTs', 'CAHT': 'Nombre'}).sort_values([\"CAHTs\"])\n",
    "\n",
    "df_ca_bins['CAHTs'] = [(round(x.left), round(x.right)) for x in df_ca_bins['CAHTs']]\n",
    "\n",
    "df_ca_bins"
   ],
   "metadata": {
    "collapsed": false,
    "pycharm": {
     "name": "#%%\n"
    }
   }
  },
  {
   "cell_type": "markdown",
   "source": [
    "# GRAPHIQUES"
   ],
   "metadata": {
    "collapsed": false,
    "pycharm": {
     "name": "#%% md\n"
    }
   }
  },
  {
   "cell_type": "code",
   "execution_count": 224,
   "outputs": [
    {
     "data": {
      "text/plain": "<AxesSubplot:xlabel='Frequences'>"
     },
     "execution_count": 224,
     "metadata": {},
     "output_type": "execute_result"
    },
    {
     "data": {
      "text/plain": "<Figure size 432x288 with 1 Axes>",
      "image/png": "[encoded data removed]"
     },
     "metadata": {},
     "output_type": "display_data"
    }
   ],
   "source": [
    "df_frequence_bins.plot(x=\"Frequences\", y=\"Nombre\", kind=\"bar\")"
   ],
   "metadata": {
    "collapsed": false,
    "pycharm": {
     "name": "#%%\n"
    }
   }
  },
  {
   "cell_type": "code",
   "execution_count": 225,
   "outputs": [
    {
     "data": {
      "text/plain": "<AxesSubplot:xlabel='CAHTs'>"
     },
     "execution_count": 225,
     "metadata": {},
     "output_type": "execute_result"
    },
    {
     "data": {
      "text/plain": "<Figure size 432x288 with 1 Axes>",
      "image/png": "[encoded data removed]"
     },
     "metadata": {},
     "output_type": "display_data"
    }
   ],
   "source": [
    "df_ca_bins.plot(x=\"CAHTs\", y=\"Nombre\", kind=\"bar\")"
   ],
   "metadata": {
    "collapsed": false,
    "pycharm": {
     "name": "#%%\n"
    }
   }
  },
  {
   "cell_type": "code",
   "execution_count": 226,
   "outputs": [
    {
     "data": {
      "text/plain": "      CodeClient    Frequence         CAHT\n0              1   149.750000   556.491111\n1              3   100.857143  2126.936667\n2             12   370.000000  2889.900000\n3             13   708.000000  1135.780000\n4             22  1310.000000  2253.280000\n...          ...          ...          ...\n2793       14709    40.000000  3829.410000\n2794       14727    13.000000  1384.460000\n2795       14734    12.000000  5458.580000\n2796       14738    14.000000   460.340000\n2797       14764     5.000000   305.640000\n\n[2798 rows x 3 columns]",
      "text/html": "<div>\n<style scoped>\n    .dataframe tbody tr th:only-of-type {\n        vertical-align: middle;\n    }\n\n    .dataframe tbody tr th {\n        vertical-align: top;\n    }\n\n    .dataframe thead th {\n        text-align: right;\n    }\n</style>\n<table border=\"1\" class=\"dataframe\">\n  <thead>\n    <tr style=\"text-align: right;\">\n      <th></th>\n      <th>CodeClient</th>\n      <th>Frequence</th>\n      <th>CAHT</th>\n    </tr>\n  </thead>\n  <tbody>\n    <tr>\n      <th>0</th>\n      <td>1</td>\n      <td>149.750000</td>\n      <td>556.491111</td>\n    </tr>\n    <tr>\n      <th>1</th>\n      <td>3</td>\n      <td>100.857143</td>\n      <td>2126.936667</td>\n    </tr>\n    <tr>\n      <th>2</th>\n      <td>12</td>\n      <td>370.000000</td>\n      <td>2889.900000</td>\n    </tr>\n    <tr>\n      <th>3</th>\n      <td>13</td>\n      <td>708.000000</td>\n      <td>1135.780000</td>\n    </tr>\n    <tr>\n      <th>4</th>\n      <td>22</td>\n      <td>1310.000000</td>\n      <td>2253.280000</td>\n    </tr>\n    <tr>\n      <th>...</th>\n      <td>...</td>\n      <td>...</td>\n      <td>...</td>\n    </tr>\n    <tr>\n      <th>2793</th>\n      <td>14709</td>\n      <td>40.000000</td>\n      <td>3829.410000</td>\n    </tr>\n    <tr>\n      <th>2794</th>\n      <td>14727</td>\n      <td>13.000000</td>\n      <td>1384.460000</td>\n    </tr>\n    <tr>\n      <th>2795</th>\n      <td>14734</td>\n      <td>12.000000</td>\n      <td>5458.580000</td>\n    </tr>\n    <tr>\n      <th>2796</th>\n      <td>14738</td>\n      <td>14.000000</td>\n      <td>460.340000</td>\n    </tr>\n    <tr>\n      <th>2797</th>\n      <td>14764</td>\n      <td>5.000000</td>\n      <td>305.640000</td>\n    </tr>\n  </tbody>\n</table>\n<p>2798 rows × 3 columns</p>\n</div>"
     },
     "execution_count": 226,
     "metadata": {},
     "output_type": "execute_result"
    }
   ],
   "source": [
    "df_matrix = pd.merge(df_frequence, df_ca, how=\"inner\", on=\"CodeClient\")\n",
    "\n",
    "df_matrix"
   ],
   "metadata": {
    "collapsed": false,
    "pycharm": {
     "name": "#%%\n"
    }
   }
  },
  {
   "cell_type": "code",
   "execution_count": 227,
   "outputs": [
    {
     "data": {
      "text/plain": "<seaborn.axisgrid.FacetGrid at 0x7fa36926f2b0>"
     },
     "execution_count": 227,
     "metadata": {},
     "output_type": "execute_result"
    },
    {
     "data": {
      "text/plain": "<Figure size 720x720 with 2 Axes>",
      "image/png": "[encoded data removed]"
     },
     "metadata": {},
     "output_type": "display_data"
    }
   ],
   "source": [
    "sns.displot(df_matrix, x=\"Frequence\", y=\"CAHT\", cbar=True, height=10, aspect=1/1)"
   ],
   "metadata": {
    "collapsed": false,
    "pycharm": {
     "name": "#%%\n"
    }
   }
  },
  {
   "cell_type": "code",
   "execution_count": 228,
   "outputs": [
    {
     "data": {
      "text/plain": "      CodeClient  Frequence      CAHT\n1313        4819      851.0  10973.48\n1470        5561      557.0  16334.05\n1787       10040      784.0  11702.57\n1817       10167      524.0  14311.35\n1994       10916     1139.0  12429.37\n2289       12041     1372.0  32049.03\n2379       12294      559.0  21172.64\n2406       12397      662.0  10021.93\n2449       12542     1104.0  16285.28\n2584       13088      657.0  17215.35",
      "text/html": "<div>\n<style scoped>\n    .dataframe tbody tr th:only-of-type {\n        vertical-align: middle;\n    }\n\n    .dataframe tbody tr th {\n        vertical-align: top;\n    }\n\n    .dataframe thead th {\n        text-align: right;\n    }\n</style>\n<table border=\"1\" class=\"dataframe\">\n  <thead>\n    <tr style=\"text-align: right;\">\n      <th></th>\n      <th>CodeClient</th>\n      <th>Frequence</th>\n      <th>CAHT</th>\n    </tr>\n  </thead>\n  <tbody>\n    <tr>\n      <th>1313</th>\n      <td>4819</td>\n      <td>851.0</td>\n      <td>10973.48</td>\n    </tr>\n    <tr>\n      <th>1470</th>\n      <td>5561</td>\n      <td>557.0</td>\n      <td>16334.05</td>\n    </tr>\n    <tr>\n      <th>1787</th>\n      <td>10040</td>\n      <td>784.0</td>\n      <td>11702.57</td>\n    </tr>\n    <tr>\n      <th>1817</th>\n      <td>10167</td>\n      <td>524.0</td>\n      <td>14311.35</td>\n    </tr>\n    <tr>\n      <th>1994</th>\n      <td>10916</td>\n      <td>1139.0</td>\n      <td>12429.37</td>\n    </tr>\n    <tr>\n      <th>2289</th>\n      <td>12041</td>\n      <td>1372.0</td>\n      <td>32049.03</td>\n    </tr>\n    <tr>\n      <th>2379</th>\n      <td>12294</td>\n      <td>559.0</td>\n      <td>21172.64</td>\n    </tr>\n    <tr>\n      <th>2406</th>\n      <td>12397</td>\n      <td>662.0</td>\n      <td>10021.93</td>\n    </tr>\n    <tr>\n      <th>2449</th>\n      <td>12542</td>\n      <td>1104.0</td>\n      <td>16285.28</td>\n    </tr>\n    <tr>\n      <th>2584</th>\n      <td>13088</td>\n      <td>657.0</td>\n      <td>17215.35</td>\n    </tr>\n  </tbody>\n</table>\n</div>"
     },
     "execution_count": 228,
     "metadata": {},
     "output_type": "execute_result"
    }
   ],
   "source": [
    "df_matrix.loc[\n",
    "    (df_matrix[\"CAHT\"] > 10000) & (df_matrix[\"Frequence\"] > 365)\n",
    "]"
   ],
   "metadata": {
    "collapsed": false,
    "pycharm": {
     "name": "#%%\n"
    }
   }
  },
  {
   "cell_type": "code",
   "execution_count": 258,
   "outputs": [
    {
     "data": {
      "text/plain": "<seaborn.axisgrid.FacetGrid at 0x7fa34175bd90>"
     },
     "execution_count": 258,
     "metadata": {},
     "output_type": "execute_result"
    },
    {
     "data": {
      "text/plain": "<Figure size 900x720 with 2 Axes>",
      "image/png": "[encoded data removed]"
     },
     "metadata": {},
     "output_type": "display_data"
    }
   ],
   "source": [
    "df_matrix_clip = df_matrix\n",
    "df_matrix_clip[\"CAHT\"] = df_matrix_clip[\"CAHT\"].clip(upper=10000)\n",
    "\n",
    "norm = matplotlib.colors.Normalize(-1,1)\n",
    "colors = [[0, \"#FFFFFF\"],\n",
    "          [norm(-1), \"#AAAAFF\"],\n",
    "          [norm(-0.95), \"#a46fbf\"],\n",
    "          [norm(-0.8), \"#bf6fa4\"],\n",
    "          [norm(1), \"#ff5c5c\"]]\n",
    "\n",
    "cmap = matplotlib.colors.LinearSegmentedColormap.from_list(\"\", colors)\n",
    "\n",
    "sns.displot(df_matrix_clip, x=\"Frequence\", y=\"CAHT\", cbar=True, height=10, aspect=5/4, binwidth=(300, 2000), cmap=cmap)"
   ],
   "metadata": {
    "collapsed": false,
    "pycharm": {
     "name": "#%%\n"
    }
   }
  },
  {
   "cell_type": "code",
   "execution_count": 259,
   "outputs": [
    {
     "data": {
      "text/plain": "        Frequence         CAHT\n0      149.750000   556.491111\n1      100.857143  2126.936667\n2      370.000000  2889.900000\n3      708.000000  1135.780000\n4     1310.000000  2253.280000\n...           ...          ...\n2793    40.000000  3829.410000\n2794    13.000000  1384.460000\n2795    12.000000  5458.580000\n2796    14.000000   460.340000\n2797     5.000000   305.640000\n\n[2798 rows x 2 columns]",
      "text/html": "<div>\n<style scoped>\n    .dataframe tbody tr th:only-of-type {\n        vertical-align: middle;\n    }\n\n    .dataframe tbody tr th {\n        vertical-align: top;\n    }\n\n    .dataframe thead th {\n        text-align: right;\n    }\n</style>\n<table border=\"1\" class=\"dataframe\">\n  <thead>\n    <tr style=\"text-align: right;\">\n      <th></th>\n      <th>Frequence</th>\n      <th>CAHT</th>\n    </tr>\n  </thead>\n  <tbody>\n    <tr>\n      <th>0</th>\n      <td>149.750000</td>\n      <td>556.491111</td>\n    </tr>\n    <tr>\n      <th>1</th>\n      <td>100.857143</td>\n      <td>2126.936667</td>\n    </tr>\n    <tr>\n      <th>2</th>\n      <td>370.000000</td>\n      <td>2889.900000</td>\n    </tr>\n    <tr>\n      <th>3</th>\n      <td>708.000000</td>\n      <td>1135.780000</td>\n    </tr>\n    <tr>\n      <th>4</th>\n      <td>1310.000000</td>\n      <td>2253.280000</td>\n    </tr>\n    <tr>\n      <th>...</th>\n      <td>...</td>\n      <td>...</td>\n    </tr>\n    <tr>\n      <th>2793</th>\n      <td>40.000000</td>\n      <td>3829.410000</td>\n    </tr>\n    <tr>\n      <th>2794</th>\n      <td>13.000000</td>\n      <td>1384.460000</td>\n    </tr>\n    <tr>\n      <th>2795</th>\n      <td>12.000000</td>\n      <td>5458.580000</td>\n    </tr>\n    <tr>\n      <th>2796</th>\n      <td>14.000000</td>\n      <td>460.340000</td>\n    </tr>\n    <tr>\n      <th>2797</th>\n      <td>5.000000</td>\n      <td>305.640000</td>\n    </tr>\n  </tbody>\n</table>\n<p>2798 rows × 2 columns</p>\n</div>"
     },
     "execution_count": 259,
     "metadata": {},
     "output_type": "execute_result"
    }
   ],
   "source": [
    "df_matrix = df_matrix[{\"Frequence\", \"CAHT\"}]\n",
    "\n",
    "df_matrix"
   ],
   "metadata": {
    "collapsed": false,
    "pycharm": {
     "name": "#%%\n"
    }
   }
  },
  {
   "cell_type": "code",
   "execution_count": null,
   "outputs": [],
   "source": [],
   "metadata": {
    "collapsed": false,
    "pycharm": {
     "name": "#%%\n"
    }
   }
  }
 ],
 "metadata": {
  "kernelspec": {
   "display_name": "Python 3",
   "language": "python",
   "name": "python3"
  },
  "language_info": {
   "codemirror_mode": {
    "name": "ipython",
    "version": 2
   },
   "file_extension": ".py",
   "mimetype": "text/x-python",
   "name": "python",
   "nbconvert_exporter": "python",
   "pygments_lexer": "ipython2",
   "version": "2.7.6"
  }
 },
 "nbformat": 4,
 "nbformat_minor": 0
}