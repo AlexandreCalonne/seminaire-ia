{
 "cells": [
  {
   "cell_type": "code",
   "execution_count": 14,
   "metadata": {
    "collapsed": true
   },
   "outputs": [],
   "source": [
    "import os\n",
    "\n",
    "import pandas as pd\n",
    "import seaborn as sns\n",
    "import numpy as np\n",
    "import matplotlib.pyplot as plt\n",
    "import re\n",
    "\n",
    "from sklearn import cluster\n",
    "from random import randint"
   ]
  },
  {
   "cell_type": "code",
   "execution_count": 48,
   "outputs": [],
   "source": [
    "pd.set_option('display.max_rows', 100)\n",
    "pd.set_option('display.max_columns', None)\n",
    "pd.set_option('display.width', None)\n",
    "pd.set_option('display.max_colwidth', None)"
   ],
   "metadata": {
    "collapsed": false,
    "pycharm": {
     "name": "#%%\n"
    }
   }
  },
  {
   "cell_type": "code",
   "execution_count": 23,
   "outputs": [
    {
     "name": "stdout",
     "output_type": "stream",
     "text": [
      "../../data/entete.csv\n",
      "../../data/client.csv\n"
     ]
    }
   ],
   "source": [
    "path_data = \"../../data\"\n",
    "\n",
    "filename_entete = \"entete.csv\"\n",
    "filename_client = \"client.csv\"\n",
    "\n",
    "# équivalent à path_data + filename_meteo et s'assure que le path est de la bonne forme\n",
    "path_data_entete = os.path.join(path_data, filename_entete)\n",
    "path_data_client = os.path.join(path_data, filename_client)\n",
    "# affiche le chemin path_data_meteo\n",
    "print(path_data_entete)\n",
    "print(path_data_client)"
   ],
   "metadata": {
    "collapsed": false,
    "pycharm": {
     "name": "#%%\n"
    }
   }
  },
  {
   "cell_type": "code",
   "execution_count": 39,
   "outputs": [
    {
     "data": {
      "text/plain": "CdeNumCom        object\nTypCde           object\nCodeClient       object\nDateCreation     object\nGestionnaire     object\nCAHT            float64\nTransfo          object\ndtype: object"
     },
     "execution_count": 39,
     "metadata": {},
     "output_type": "execute_result"
    }
   ],
   "source": [
    "df_entete = pd.read_csv(path_data_entete, sep=\",\")\n",
    "\n",
    "df_entete[\"CodeClient\"] = df_entete[\"CodeClient\"].astype(str)\n",
    "\n",
    "df_entete.dtypes"
   ],
   "metadata": {
    "collapsed": false,
    "pycharm": {
     "name": "#%%\n"
    }
   }
  },
  {
   "cell_type": "code",
   "execution_count": 78,
   "outputs": [
    {
     "data": {
      "text/plain": "      CodeClient DateCreation  SecteurCo SecteurAct NivSupp1 NivSupp2\n0              1    10/4/2012        1.0     DIVERS      NaN      NaN\n1              2    11/2/2011       40.0          N    G1047    G0021\n2              3   12/20/2012        0.0     DIVERS      NaN      NaN\n3              5    11/2/2011       70.0        FAB      NaN      NaN\n4              9    11/2/2011       40.0          N    G1079    G0052\n...          ...          ...        ...        ...      ...      ...\n10103      G1137    5/13/2020       91.0          N      NaN      NaN\n10104      G1138    2/23/2021        NaN        NaN    G0002      NaN\n10105      G1139     6/8/2021        NaN        NaN    G0071      NaN\n10106      P-TES    3/12/2020       91.0        NaN      NaN      NaN\n10107       TEST    11/2/2011       80.0        NaN      NaN      NaN\n\n[10108 rows x 6 columns]",
      "text/html": "<div>\n<style scoped>\n    .dataframe tbody tr th:only-of-type {\n        vertical-align: middle;\n    }\n\n    .dataframe tbody tr th {\n        vertical-align: top;\n    }\n\n    .dataframe thead th {\n        text-align: right;\n    }\n</style>\n<table border=\"1\" class=\"dataframe\">\n  <thead>\n    <tr style=\"text-align: right;\">\n      <th></th>\n      <th>CodeClient</th>\n      <th>DateCreation</th>\n      <th>SecteurCo</th>\n      <th>SecteurAct</th>\n      <th>NivSupp1</th>\n      <th>NivSupp2</th>\n    </tr>\n  </thead>\n  <tbody>\n    <tr>\n      <th>0</th>\n      <td>1</td>\n      <td>10/4/2012</td>\n      <td>1.0</td>\n      <td>DIVERS</td>\n      <td>NaN</td>\n      <td>NaN</td>\n    </tr>\n    <tr>\n      <th>1</th>\n      <td>2</td>\n      <td>11/2/2011</td>\n      <td>40.0</td>\n      <td>N</td>\n      <td>G1047</td>\n      <td>G0021</td>\n    </tr>\n    <tr>\n      <th>2</th>\n      <td>3</td>\n      <td>12/20/2012</td>\n      <td>0.0</td>\n      <td>DIVERS</td>\n      <td>NaN</td>\n      <td>NaN</td>\n    </tr>\n    <tr>\n      <th>3</th>\n      <td>5</td>\n      <td>11/2/2011</td>\n      <td>70.0</td>\n      <td>FAB</td>\n      <td>NaN</td>\n      <td>NaN</td>\n    </tr>\n    <tr>\n      <th>4</th>\n      <td>9</td>\n      <td>11/2/2011</td>\n      <td>40.0</td>\n      <td>N</td>\n      <td>G1079</td>\n      <td>G0052</td>\n    </tr>\n    <tr>\n      <th>...</th>\n      <td>...</td>\n      <td>...</td>\n      <td>...</td>\n      <td>...</td>\n      <td>...</td>\n      <td>...</td>\n    </tr>\n    <tr>\n      <th>10103</th>\n      <td>G1137</td>\n      <td>5/13/2020</td>\n      <td>91.0</td>\n      <td>N</td>\n      <td>NaN</td>\n      <td>NaN</td>\n    </tr>\n    <tr>\n      <th>10104</th>\n      <td>G1138</td>\n      <td>2/23/2021</td>\n      <td>NaN</td>\n      <td>NaN</td>\n      <td>G0002</td>\n      <td>NaN</td>\n    </tr>\n    <tr>\n      <th>10105</th>\n      <td>G1139</td>\n      <td>6/8/2021</td>\n      <td>NaN</td>\n      <td>NaN</td>\n      <td>G0071</td>\n      <td>NaN</td>\n    </tr>\n    <tr>\n      <th>10106</th>\n      <td>P-TES</td>\n      <td>3/12/2020</td>\n      <td>91.0</td>\n      <td>NaN</td>\n      <td>NaN</td>\n      <td>NaN</td>\n    </tr>\n    <tr>\n      <th>10107</th>\n      <td>TEST</td>\n      <td>11/2/2011</td>\n      <td>80.0</td>\n      <td>NaN</td>\n      <td>NaN</td>\n      <td>NaN</td>\n    </tr>\n  </tbody>\n</table>\n<p>10108 rows × 6 columns</p>\n</div>"
     },
     "execution_count": 78,
     "metadata": {},
     "output_type": "execute_result"
    }
   ],
   "source": [
    "df_client = pd.read_csv(path_data_client, sep=\",\")\n",
    "\n",
    "df_client[\"CodeClient\"] = df_client[\"CodeClient\"].astype(str)\n",
    "\n",
    "df_client"
   ],
   "metadata": {
    "collapsed": false,
    "pycharm": {
     "name": "#%%\n"
    }
   }
  },
  {
   "cell_type": "code",
   "execution_count": 65,
   "outputs": [],
   "source": [
    "df_frequence = df_entete.groupby(\n",
    "    by=['CodeClient'], as_index=False\n",
    ")['DateCreation'].count()\n",
    "\n",
    "df_frequence.columns = ['CodeClient', 'Frequence']\n",
    "\n",
    "df_frequence = pd.merge(df_frequence, df_client, how = 'inner', on = 'CodeClient')[{\"CodeClient\", \"Frequence\", \"SecteurAct\"}]"
   ],
   "metadata": {
    "collapsed": false,
    "pycharm": {
     "name": "#%%\n"
    }
   }
  },
  {
   "cell_type": "code",
   "execution_count": 66,
   "outputs": [
    {
     "data": {
      "text/plain": "     CodeClient SecteurAct  Frequence\n0             1     DIVERS         43\n1           100          N          2\n2         10004          N         15\n3         10005          N         10\n4         10007        FEN          6\n...         ...        ...        ...\n4533       9982          N         13\n4534       9986        FEN          1\n4535       9988        FEN         46\n4536       9997        FAB         10\n4537       9998          N         12\n\n[4538 rows x 3 columns]",
      "text/html": "<div>\n<style scoped>\n    .dataframe tbody tr th:only-of-type {\n        vertical-align: middle;\n    }\n\n    .dataframe tbody tr th {\n        vertical-align: top;\n    }\n\n    .dataframe thead th {\n        text-align: right;\n    }\n</style>\n<table border=\"1\" class=\"dataframe\">\n  <thead>\n    <tr style=\"text-align: right;\">\n      <th></th>\n      <th>CodeClient</th>\n      <th>SecteurAct</th>\n      <th>Frequence</th>\n    </tr>\n  </thead>\n  <tbody>\n    <tr>\n      <th>0</th>\n      <td>1</td>\n      <td>DIVERS</td>\n      <td>43</td>\n    </tr>\n    <tr>\n      <th>1</th>\n      <td>100</td>\n      <td>N</td>\n      <td>2</td>\n    </tr>\n    <tr>\n      <th>2</th>\n      <td>10004</td>\n      <td>N</td>\n      <td>15</td>\n    </tr>\n    <tr>\n      <th>3</th>\n      <td>10005</td>\n      <td>N</td>\n      <td>10</td>\n    </tr>\n    <tr>\n      <th>4</th>\n      <td>10007</td>\n      <td>FEN</td>\n      <td>6</td>\n    </tr>\n    <tr>\n      <th>...</th>\n      <td>...</td>\n      <td>...</td>\n      <td>...</td>\n    </tr>\n    <tr>\n      <th>4533</th>\n      <td>9982</td>\n      <td>N</td>\n      <td>13</td>\n    </tr>\n    <tr>\n      <th>4534</th>\n      <td>9986</td>\n      <td>FEN</td>\n      <td>1</td>\n    </tr>\n    <tr>\n      <th>4535</th>\n      <td>9988</td>\n      <td>FEN</td>\n      <td>46</td>\n    </tr>\n    <tr>\n      <th>4536</th>\n      <td>9997</td>\n      <td>FAB</td>\n      <td>10</td>\n    </tr>\n    <tr>\n      <th>4537</th>\n      <td>9998</td>\n      <td>N</td>\n      <td>12</td>\n    </tr>\n  </tbody>\n</table>\n<p>4538 rows × 3 columns</p>\n</div>"
     },
     "execution_count": 66,
     "metadata": {},
     "output_type": "execute_result"
    }
   ],
   "source": [
    "df_frequence"
   ],
   "metadata": {
    "collapsed": false,
    "pycharm": {
     "name": "#%%\n"
    }
   }
  },
  {
   "cell_type": "code",
   "execution_count": 72,
   "outputs": [],
   "source": [
    "df_frequence[\"SecteurAct\"] = df_frequence[\"SecteurAct\"].astype(str)\n",
    "df_frequence[\"Frequence\"] = df_frequence[\"Frequence\"].astype(int)"
   ],
   "metadata": {
    "collapsed": false,
    "pycharm": {
     "name": "#%%\n"
    }
   }
  },
  {
   "cell_type": "code",
   "execution_count": 73,
   "outputs": [
    {
     "data": {
      "text/plain": "<AxesSubplot:xlabel='SecteurAct', ylabel='Frequence'>"
     },
     "execution_count": 73,
     "metadata": {},
     "output_type": "execute_result"
    },
    {
     "data": {
      "text/plain": "<Figure size 432x288 with 1 Axes>",
      "image/png": "[encoded data removed]"
     },
     "metadata": {
      "needs_background": "light"
     },
     "output_type": "display_data"
    }
   ],
   "source": [
    "df_frequence.plot(x=\"SecteurAct\", y=\"Frequence\", kind=\"scatter\")"
   ],
   "metadata": {
    "collapsed": false,
    "pycharm": {
     "name": "#%%\n"
    }
   }
  },
  {
   "cell_type": "code",
   "execution_count": 77,
   "outputs": [
    {
     "data": {
      "text/plain": "<AxesSubplot:xlabel='SecteurAct'>"
     },
     "execution_count": 77,
     "metadata": {},
     "output_type": "execute_result"
    },
    {
     "data": {
      "text/plain": "<Figure size 432x288 with 1 Axes>",
      "image/png": "[encoded data removed]"
     },
     "metadata": {
      "needs_background": "light"
     },
     "output_type": "display_data"
    }
   ],
   "source": [
    "df_frequence = df_frequence.groupby(\"SecteurAct\")[\"Frequence\"].sum().reset_index()\n",
    "\n",
    "df_frequence = df_frequence.sort_values('Frequence', ascending=False)\n",
    "\n",
    "df_frequence.plot(x=\"SecteurAct\", y=\"Frequence\", kind=\"bar\")"
   ],
   "metadata": {
    "collapsed": false,
    "pycharm": {
     "name": "#%%\n"
    }
   }
  },
  {
   "cell_type": "code",
   "execution_count": null,
   "outputs": [],
   "source": [],
   "metadata": {
    "collapsed": false,
    "pycharm": {
     "name": "#%%\n"
    }
   }
  }
 ],
 "metadata": {
  "kernelspec": {
   "display_name": "Python 3",
   "language": "python",
   "name": "python3"
  },
  "language_info": {
   "codemirror_mode": {
    "name": "ipython",
    "version": 2
   },
   "file_extension": ".py",
   "mimetype": "text/x-python",
   "name": "python",
   "nbconvert_exporter": "python",
   "pygments_lexer": "ipython2",
   "version": "2.7.6"
  }
 },
 "nbformat": 4,
 "nbformat_minor": 0
}