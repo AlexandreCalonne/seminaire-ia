{
 "cells": [
  {
   "cell_type": "code",
   "execution_count": 1,
   "metadata": {
    "collapsed": true
   },
   "outputs": [],
   "source": [
    "import os\n",
    "\n",
    "import numpy as np\n",
    "import pandas as pd"
   ]
  },
  {
   "cell_type": "code",
   "execution_count": 2,
   "outputs": [],
   "source": [
    "path_data = \"../data\""
   ],
   "metadata": {
    "collapsed": false,
    "pycharm": {
     "name": "#%%\n"
    }
   }
  },
  {
   "cell_type": "code",
   "execution_count": 3,
   "outputs": [],
   "source": [
    "filename_ligne = \"Ligne.csv\""
   ],
   "metadata": {
    "collapsed": false,
    "pycharm": {
     "name": "#%%\n"
    }
   }
  },
  {
   "cell_type": "code",
   "execution_count": 4,
   "outputs": [],
   "source": [
    "path_data_ligne = os.path.join(path_data, filename_ligne)"
   ],
   "metadata": {
    "collapsed": false,
    "pycharm": {
     "name": "#%%\n"
    }
   }
  },
  {
   "cell_type": "code",
   "execution_count": 5,
   "outputs": [
    {
     "name": "stderr",
     "output_type": "stream",
     "text": [
      "c:\\users\\ahmed\\appdata\\roaming\\jetbrains\\dataspell2021.3\\projects\\workspace\\venv\\lib\\site-packages\\IPython\\core\\interactiveshell.py:3457: DtypeWarning: Columns (12) have mixed types.Specify dtype option on import or set low_memory=False.\n",
      "  exec(code_obj, self.user_global_ns, self.user_ns)\n"
     ]
    }
   ],
   "source": [
    "df_ligne = pd.read_csv(path_data_ligne, sep=\",\")\n"
   ],
   "metadata": {
    "collapsed": false,
    "pycharm": {
     "name": "#%%\n"
    }
   }
  },
  {
   "cell_type": "code",
   "execution_count": 6,
   "outputs": [
    {
     "data": {
      "text/plain": "              N° CDE    L  Qte Type  CodeClient DateCreation Gestionnaire  \\\n0          140500651  1.0  1.0    C      2625.0    4/10/2018          ALU   \n1          140500651  2.0  1.0    C      2625.0    4/10/2018          ALU   \n2          140600145  1.0  8.0    C      5505.0    4/18/2018          ALU   \n3          140600145  2.0  1.0    C      5505.0    4/18/2018          ALU   \n4          140600145  3.0  1.0    C      5505.0    4/18/2018          ALU   \n...              ...  ...  ...  ...         ...          ...          ...   \n133753  220400553-00  1.0  1.0    D      7702.0    4/13/2022         BOIS   \n133754  220400560-00  1.0  1.0    D      5959.0    4/13/2022          ALU   \n133755  220400560-00  2.0  0.0    D      5959.0    4/13/2022          ALU   \n133756  220400561-00  1.0  1.0    D     12560.0    4/13/2022          ALU   \n133757  220400561-01  1.0  1.0    D     12560.0    4/14/2022          ALU   \n\n       Type Menuiserie Ouverture Nb Zone     CA HT Transformation Unnamed: 12  \n0                   HO        OF       1   1032.90   140500651-02         NaN  \n1                   HO        OF       1   1032.90   140500651-02         NaN  \n2                   FE        OF       1  13566.08   140600145-03         NaN  \n3                   PF        OF       1   2126.06   140600145-03         NaN  \n4                   FE        OF       1   1268.37   140600145-03         NaN  \n...                ...       ...     ...       ...            ...         ...  \n133753             ODB       BAS       1    608.00            NaN         NaN  \n133754             ODB        FX       1   1138.45            NaN         NaN  \n133755             ODB        FX       2      0.00            NaN         NaN  \n133756              FE        OF       1   1374.98            NaN         NaN  \n133757              FE        OF       1   1374.98            NaN         NaN  \n\n[133758 rows x 13 columns]",
      "text/html": "<div>\n<style scoped>\n    .dataframe tbody tr th:only-of-type {\n        vertical-align: middle;\n    }\n\n    .dataframe tbody tr th {\n        vertical-align: top;\n    }\n\n    .dataframe thead th {\n        text-align: right;\n    }\n</style>\n<table border=\"1\" class=\"dataframe\">\n  <thead>\n    <tr style=\"text-align: right;\">\n      <th></th>\n      <th>N° CDE</th>\n      <th>L</th>\n      <th>Qte</th>\n      <th>Type</th>\n      <th>CodeClient</th>\n      <th>DateCreation</th>\n      <th>Gestionnaire</th>\n      <th>Type Menuiserie</th>\n      <th>Ouverture</th>\n      <th>Nb Zone</th>\n      <th>CA HT</th>\n      <th>Transformation</th>\n      <th>Unnamed: 12</th>\n    </tr>\n  </thead>\n  <tbody>\n    <tr>\n      <th>0</th>\n      <td>140500651</td>\n      <td>1.0</td>\n      <td>1.0</td>\n      <td>C</td>\n      <td>2625.0</td>\n      <td>4/10/2018</td>\n      <td>ALU</td>\n      <td>HO</td>\n      <td>OF</td>\n      <td>1</td>\n      <td>1032.90</td>\n      <td>140500651-02</td>\n      <td>NaN</td>\n    </tr>\n    <tr>\n      <th>1</th>\n      <td>140500651</td>\n      <td>2.0</td>\n      <td>1.0</td>\n      <td>C</td>\n      <td>2625.0</td>\n      <td>4/10/2018</td>\n      <td>ALU</td>\n      <td>HO</td>\n      <td>OF</td>\n      <td>1</td>\n      <td>1032.90</td>\n      <td>140500651-02</td>\n      <td>NaN</td>\n    </tr>\n    <tr>\n      <th>2</th>\n      <td>140600145</td>\n      <td>1.0</td>\n      <td>8.0</td>\n      <td>C</td>\n      <td>5505.0</td>\n      <td>4/18/2018</td>\n      <td>ALU</td>\n      <td>FE</td>\n      <td>OF</td>\n      <td>1</td>\n      <td>13566.08</td>\n      <td>140600145-03</td>\n      <td>NaN</td>\n    </tr>\n    <tr>\n      <th>3</th>\n      <td>140600145</td>\n      <td>2.0</td>\n      <td>1.0</td>\n      <td>C</td>\n      <td>5505.0</td>\n      <td>4/18/2018</td>\n      <td>ALU</td>\n      <td>PF</td>\n      <td>OF</td>\n      <td>1</td>\n      <td>2126.06</td>\n      <td>140600145-03</td>\n      <td>NaN</td>\n    </tr>\n    <tr>\n      <th>4</th>\n      <td>140600145</td>\n      <td>3.0</td>\n      <td>1.0</td>\n      <td>C</td>\n      <td>5505.0</td>\n      <td>4/18/2018</td>\n      <td>ALU</td>\n      <td>FE</td>\n      <td>OF</td>\n      <td>1</td>\n      <td>1268.37</td>\n      <td>140600145-03</td>\n      <td>NaN</td>\n    </tr>\n    <tr>\n      <th>...</th>\n      <td>...</td>\n      <td>...</td>\n      <td>...</td>\n      <td>...</td>\n      <td>...</td>\n      <td>...</td>\n      <td>...</td>\n      <td>...</td>\n      <td>...</td>\n      <td>...</td>\n      <td>...</td>\n      <td>...</td>\n      <td>...</td>\n    </tr>\n    <tr>\n      <th>133753</th>\n      <td>220400553-00</td>\n      <td>1.0</td>\n      <td>1.0</td>\n      <td>D</td>\n      <td>7702.0</td>\n      <td>4/13/2022</td>\n      <td>BOIS</td>\n      <td>ODB</td>\n      <td>BAS</td>\n      <td>1</td>\n      <td>608.00</td>\n      <td>NaN</td>\n      <td>NaN</td>\n    </tr>\n    <tr>\n      <th>133754</th>\n      <td>220400560-00</td>\n      <td>1.0</td>\n      <td>1.0</td>\n      <td>D</td>\n      <td>5959.0</td>\n      <td>4/13/2022</td>\n      <td>ALU</td>\n      <td>ODB</td>\n      <td>FX</td>\n      <td>1</td>\n      <td>1138.45</td>\n      <td>NaN</td>\n      <td>NaN</td>\n    </tr>\n    <tr>\n      <th>133755</th>\n      <td>220400560-00</td>\n      <td>2.0</td>\n      <td>0.0</td>\n      <td>D</td>\n      <td>5959.0</td>\n      <td>4/13/2022</td>\n      <td>ALU</td>\n      <td>ODB</td>\n      <td>FX</td>\n      <td>2</td>\n      <td>0.00</td>\n      <td>NaN</td>\n      <td>NaN</td>\n    </tr>\n    <tr>\n      <th>133756</th>\n      <td>220400561-00</td>\n      <td>1.0</td>\n      <td>1.0</td>\n      <td>D</td>\n      <td>12560.0</td>\n      <td>4/13/2022</td>\n      <td>ALU</td>\n      <td>FE</td>\n      <td>OF</td>\n      <td>1</td>\n      <td>1374.98</td>\n      <td>NaN</td>\n      <td>NaN</td>\n    </tr>\n    <tr>\n      <th>133757</th>\n      <td>220400561-01</td>\n      <td>1.0</td>\n      <td>1.0</td>\n      <td>D</td>\n      <td>12560.0</td>\n      <td>4/14/2022</td>\n      <td>ALU</td>\n      <td>FE</td>\n      <td>OF</td>\n      <td>1</td>\n      <td>1374.98</td>\n      <td>NaN</td>\n      <td>NaN</td>\n    </tr>\n  </tbody>\n</table>\n<p>133758 rows × 13 columns</p>\n</div>"
     },
     "execution_count": 6,
     "metadata": {},
     "output_type": "execute_result"
    }
   ],
   "source": [
    "df_ligne"
   ],
   "metadata": {
    "collapsed": false,
    "pycharm": {
     "name": "#%%\n"
    }
   }
  },
  {
   "cell_type": "code",
   "execution_count": 7,
   "outputs": [
    {
     "name": "stdout",
     "output_type": "stream",
     "text": [
      "              N° CDE     L  Qte Type  CodeClient DateCreation Gestionnaire  \\\n",
      "28690   190201456-04  32.0  1.0    D      1788.0    1/17/2020          ALU   \n",
      "28704   190201456-05   4.0  1.0    D      1788.0    2/24/2020          ALU   \n",
      "37572      190600147   1.0  1.0    C     10510.0    2/12/2020          ALU   \n",
      "37573      190600147   2.0  1.0    C     10510.0    2/12/2020          ALU   \n",
      "37575   190600147-01   2.0  2.0    D     10510.0    11/4/2019          ALU   \n",
      "...              ...   ...  ...  ...         ...          ...          ...   \n",
      "133538  220400332-00   1.0  1.0    D      4999.0     4/8/2022          ALU   \n",
      "133570  220400351-00   1.0  1.0    D       915.0     4/8/2022          ALU   \n",
      "133616  220400395-00   1.0  1.0    D       810.0     4/8/2022          ALU   \n",
      "133657  220400434-00   1.0  1.0    D     11117.0    4/11/2022          ALU   \n",
      "133699  220400473-00   1.0  1.0    D      4294.0    4/12/2022          ALU   \n",
      "\n",
      "       Type Menuiserie Ouverture Nb Zone    CA HT Transformation Unnamed: 12  \n",
      "28690         MENREPLI         ?       ?  6078.36            NaN         NaN  \n",
      "28704         MENREPLI         ?       ?  5614.99            NaN         NaN  \n",
      "37572         MENREPLI         ?       ?  3271.05   190600147-03         NaN  \n",
      "37573         MENREPLI         ?       ?  3271.05   190600147-03         NaN  \n",
      "37575         MENREPLI         ?       ?  7340.60            NaN         NaN  \n",
      "...                ...       ...     ...      ...            ...         ...  \n",
      "133538        MENREPLI         ?       ?  4343.24            NaN         NaN  \n",
      "133570        MENREPLI         ?       ?  5248.18            NaN         NaN  \n",
      "133616        MENREPLI         ?       ?  4257.40            NaN         NaN  \n",
      "133657        MENREPLI         ?       ?  3612.37            NaN         NaN  \n",
      "133699        MENREPLI         ?       ?  5065.90            NaN         NaN  \n",
      "\n",
      "[1486 rows x 13 columns]\n"
     ]
    }
   ],
   "source": [
    "dfLigneTypeMenuiseriRepliable = df_ligne.loc[\n",
    "    (df_ligne[\"Type Menuiserie\"] == \"MENREPLI\") & (df_ligne[\"CA HT\"] > 0)\n",
    "    ]\n",
    "\n",
    "print(dfLigneTypeMenuiseriRepliable)"
   ],
   "metadata": {
    "collapsed": false,
    "pycharm": {
     "name": "#%%\n"
    }
   }
  },
  {
   "cell_type": "code",
   "execution_count": 8,
   "outputs": [
    {
     "name": "stdout",
     "output_type": "stream",
     "text": [
      "     CodeClient Type  Nombre\n",
      "0          33.0    C       2\n",
      "1          33.0    D       8\n",
      "2          43.0    D       3\n",
      "3          45.0    D       2\n",
      "4          63.0    D       2\n",
      "..          ...  ...     ...\n",
      "413     14641.0    D       1\n",
      "414     14649.0    D       1\n",
      "415     14663.0    D       1\n",
      "416     14691.0    C       1\n",
      "417     14691.0    D       2\n",
      "\n",
      "[418 rows x 3 columns]\n"
     ]
    }
   ],
   "source": [
    "dfLigneTypeMenuiserieCodeClient = dfLigneTypeMenuiseriRepliable.loc[:,\n",
    "                                  [\"Type\", \"CodeClient\", \"Type Menuiserie\", \"DateCreation\"]]\n",
    "\n",
    "dfLigneTypeMenuiserieCodeClient = dfLigneTypeMenuiserieCodeClient.rename(columns={'DateCreation': 'Nombre'})\n",
    "\n",
    "print(dfLigneTypeMenuiserieCodeClient.groupby([\"CodeClient\", \"Type\"])[\"Nombre\"].count().reset_index())"
   ],
   "metadata": {
    "collapsed": false,
    "pycharm": {
     "name": "#%%\n"
    }
   }
  },
  {
   "cell_type": "code",
   "execution_count": 9,
   "outputs": [
    {
     "data": {
      "text/plain": "     CodeClient  C  D\n0            33  2  8\n1            43  0  3\n2            45  0  2\n3            63  0  2\n4           113  0  1\n..          ... .. ..\n371       14603  0  3\n372       14641  0  1\n373       14649  0  1\n374       14663  0  1\n375       14691  1  2\n\n[376 rows x 3 columns]",
      "text/html": "<div>\n<style scoped>\n    .dataframe tbody tr th:only-of-type {\n        vertical-align: middle;\n    }\n\n    .dataframe tbody tr th {\n        vertical-align: top;\n    }\n\n    .dataframe thead th {\n        text-align: right;\n    }\n</style>\n<table border=\"1\" class=\"dataframe\">\n  <thead>\n    <tr style=\"text-align: right;\">\n      <th></th>\n      <th>CodeClient</th>\n      <th>C</th>\n      <th>D</th>\n    </tr>\n  </thead>\n  <tbody>\n    <tr>\n      <th>0</th>\n      <td>33</td>\n      <td>2</td>\n      <td>8</td>\n    </tr>\n    <tr>\n      <th>1</th>\n      <td>43</td>\n      <td>0</td>\n      <td>3</td>\n    </tr>\n    <tr>\n      <th>2</th>\n      <td>45</td>\n      <td>0</td>\n      <td>2</td>\n    </tr>\n    <tr>\n      <th>3</th>\n      <td>63</td>\n      <td>0</td>\n      <td>2</td>\n    </tr>\n    <tr>\n      <th>4</th>\n      <td>113</td>\n      <td>0</td>\n      <td>1</td>\n    </tr>\n    <tr>\n      <th>...</th>\n      <td>...</td>\n      <td>...</td>\n      <td>...</td>\n    </tr>\n    <tr>\n      <th>371</th>\n      <td>14603</td>\n      <td>0</td>\n      <td>3</td>\n    </tr>\n    <tr>\n      <th>372</th>\n      <td>14641</td>\n      <td>0</td>\n      <td>1</td>\n    </tr>\n    <tr>\n      <th>373</th>\n      <td>14649</td>\n      <td>0</td>\n      <td>1</td>\n    </tr>\n    <tr>\n      <th>374</th>\n      <td>14663</td>\n      <td>0</td>\n      <td>1</td>\n    </tr>\n    <tr>\n      <th>375</th>\n      <td>14691</td>\n      <td>1</td>\n      <td>2</td>\n    </tr>\n  </tbody>\n</table>\n<p>376 rows × 3 columns</p>\n</div>"
     },
     "execution_count": 9,
     "metadata": {},
     "output_type": "execute_result"
    }
   ],
   "source": [
    "dfLigneTypeMenuiserieCodeClientTransfo = pd.pivot_table(\n",
    "    dfLigneTypeMenuiserieCodeClient,\n",
    "    index=['CodeClient'],\n",
    "    columns='Type',\n",
    "    values='Nombre',\n",
    "    aggfunc='count',\n",
    ").reset_index().rename_axis(None, axis=1)\n",
    "\n",
    "dfLigneTypeMenuiserieCodeClientTransfo['D'] = dfLigneTypeMenuiserieCodeClientTransfo['D'].fillna(0)\n",
    "dfLigneTypeMenuiserieCodeClientTransfo['C'] = dfLigneTypeMenuiserieCodeClientTransfo['C'].fillna(0)\n",
    "\n",
    "dfLigneTypeMenuiserieCodeClientTransfo = dfLigneTypeMenuiserieCodeClientTransfo.astype({\n",
    "    \"CodeClient\": int,\n",
    "    'D': int,\n",
    "    'C': int\n",
    "})\n",
    "\n",
    "dfLigneTypeMenuiserieCodeClientTransfo"
   ],
   "metadata": {
    "collapsed": false,
    "pycharm": {
     "name": "#%%\n"
    }
   }
  },
  {
   "cell_type": "code",
   "execution_count": 11,
   "outputs": [],
   "source": [
    "dfLigneTypeMenuiserieCodeClientTransfo[\"TauxDeTransformation\"] = dfLigneTypeMenuiserieCodeClientTransfo[\"C\"] /dfLigneTypeMenuiserieCodeClientTransfo[\"D\"] * 100"
   ],
   "metadata": {
    "collapsed": false,
    "pycharm": {
     "name": "#%%\n"
    }
   }
  },
  {
   "cell_type": "code",
   "execution_count": 12,
   "outputs": [],
   "source": [
    "dfLigneTypeMenuiserieCodeClientTransfo.replace([np.inf, -np.inf], 1, inplace=True)"
   ],
   "metadata": {
    "collapsed": false,
    "pycharm": {
     "name": "#%%\n"
    }
   }
  },
  {
   "cell_type": "code",
   "execution_count": 13,
   "outputs": [
    {
     "data": {
      "text/plain": "     CodeClient  C  D  TauxDeTransformation\n0            33  2  8                  25.0\n1            43  0  3                   0.0\n2            45  0  2                   0.0\n3            63  0  2                   0.0\n4           113  0  1                   0.0\n..          ... .. ..                   ...\n371       14603  0  3                   0.0\n372       14641  0  1                   0.0\n373       14649  0  1                   0.0\n374       14663  0  1                   0.0\n375       14691  1  2                  50.0\n\n[376 rows x 4 columns]",
      "text/html": "<div>\n<style scoped>\n    .dataframe tbody tr th:only-of-type {\n        vertical-align: middle;\n    }\n\n    .dataframe tbody tr th {\n        vertical-align: top;\n    }\n\n    .dataframe thead th {\n        text-align: right;\n    }\n</style>\n<table border=\"1\" class=\"dataframe\">\n  <thead>\n    <tr style=\"text-align: right;\">\n      <th></th>\n      <th>CodeClient</th>\n      <th>C</th>\n      <th>D</th>\n      <th>TauxDeTransformation</th>\n    </tr>\n  </thead>\n  <tbody>\n    <tr>\n      <th>0</th>\n      <td>33</td>\n      <td>2</td>\n      <td>8</td>\n      <td>25.0</td>\n    </tr>\n    <tr>\n      <th>1</th>\n      <td>43</td>\n      <td>0</td>\n      <td>3</td>\n      <td>0.0</td>\n    </tr>\n    <tr>\n      <th>2</th>\n      <td>45</td>\n      <td>0</td>\n      <td>2</td>\n      <td>0.0</td>\n    </tr>\n    <tr>\n      <th>3</th>\n      <td>63</td>\n      <td>0</td>\n      <td>2</td>\n      <td>0.0</td>\n    </tr>\n    <tr>\n      <th>4</th>\n      <td>113</td>\n      <td>0</td>\n      <td>1</td>\n      <td>0.0</td>\n    </tr>\n    <tr>\n      <th>...</th>\n      <td>...</td>\n      <td>...</td>\n      <td>...</td>\n      <td>...</td>\n    </tr>\n    <tr>\n      <th>371</th>\n      <td>14603</td>\n      <td>0</td>\n      <td>3</td>\n      <td>0.0</td>\n    </tr>\n    <tr>\n      <th>372</th>\n      <td>14641</td>\n      <td>0</td>\n      <td>1</td>\n      <td>0.0</td>\n    </tr>\n    <tr>\n      <th>373</th>\n      <td>14649</td>\n      <td>0</td>\n      <td>1</td>\n      <td>0.0</td>\n    </tr>\n    <tr>\n      <th>374</th>\n      <td>14663</td>\n      <td>0</td>\n      <td>1</td>\n      <td>0.0</td>\n    </tr>\n    <tr>\n      <th>375</th>\n      <td>14691</td>\n      <td>1</td>\n      <td>2</td>\n      <td>50.0</td>\n    </tr>\n  </tbody>\n</table>\n<p>376 rows × 4 columns</p>\n</div>"
     },
     "execution_count": 13,
     "metadata": {},
     "output_type": "execute_result"
    }
   ],
   "source": [
    "dfLigneTypeMenuiserieCodeClientTransfo"
   ],
   "metadata": {
    "collapsed": false,
    "pycharm": {
     "name": "#%%\n"
    }
   }
  },
  {
   "cell_type": "code",
   "execution_count": 32,
   "outputs": [],
   "source": [
    "dfLigneTypeMenuiserieCodeClientTransfo = dfLigneTypeMenuiserieCodeClientTransfo[\n",
    "    (dfLigneTypeMenuiserieCodeClientTransfo[\"TauxDeTransformation\"] >= 30) &\n",
    "    (dfLigneTypeMenuiserieCodeClientTransfo[\"TauxDeTransformation\"] < 40)\n",
    "    ]"
   ],
   "metadata": {
    "collapsed": false,
    "pycharm": {
     "name": "#%%\n"
    }
   }
  },
  {
   "cell_type": "code",
   "execution_count": 33,
   "outputs": [
    {
     "data": {
      "text/plain": "Empty DataFrame\nColumns: [CodeClient, C, D, TauxDeTransformation]\nIndex: []",
      "text/html": "<div>\n<style scoped>\n    .dataframe tbody tr th:only-of-type {\n        vertical-align: middle;\n    }\n\n    .dataframe tbody tr th {\n        vertical-align: top;\n    }\n\n    .dataframe thead th {\n        text-align: right;\n    }\n</style>\n<table border=\"1\" class=\"dataframe\">\n  <thead>\n    <tr style=\"text-align: right;\">\n      <th></th>\n      <th>CodeClient</th>\n      <th>C</th>\n      <th>D</th>\n      <th>TauxDeTransformation</th>\n    </tr>\n  </thead>\n  <tbody>\n  </tbody>\n</table>\n</div>"
     },
     "execution_count": 33,
     "metadata": {},
     "output_type": "execute_result"
    }
   ],
   "source": [
    "dfLigneTypeMenuiserieCodeClientTransfo"
   ],
   "metadata": {
    "collapsed": false,
    "pycharm": {
     "name": "#%%\n"
    }
   }
  },
  {
   "cell_type": "code",
   "execution_count": null,
   "outputs": [],
   "source": [],
   "metadata": {
    "collapsed": false,
    "pycharm": {
     "name": "#%%\n"
    }
   }
  }
 ],
 "metadata": {
  "kernelspec": {
   "display_name": "Python 3",
   "language": "python",
   "name": "python3"
  },
  "language_info": {
   "codemirror_mode": {
    "name": "ipython",
    "version": 2
   },
   "file_extension": ".py",
   "mimetype": "text/x-python",
   "name": "python",
   "nbconvert_exporter": "python",
   "pygments_lexer": "ipython2",
   "version": "2.7.6"
  }
 },
 "nbformat": 4,
 "nbformat_minor": 0
}