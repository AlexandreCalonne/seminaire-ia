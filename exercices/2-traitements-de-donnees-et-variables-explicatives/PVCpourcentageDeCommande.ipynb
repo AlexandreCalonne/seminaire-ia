{
 "cells": [
  {
   "cell_type": "code",
   "execution_count": 209,
   "metadata": {
    "collapsed": true
   },
   "outputs": [
    {
     "data": {
      "text/plain": "'Quels sont les clients qui ont un % de commandes PVC très inférieur à leur % de commandes total'"
     },
     "execution_count": 209,
     "metadata": {},
     "output_type": "execute_result"
    }
   ],
   "source": [
    "\"Quels sont les clients qui ont un % de commandes PVC très inférieur à leur % de commandes total\""
   ]
  },
  {
   "cell_type": "markdown",
   "source": [],
   "metadata": {
    "collapsed": false
   }
  },
  {
   "cell_type": "code",
   "execution_count": 210,
   "outputs": [],
   "source": [
    "import os\n",
    "\n",
    "import numpy as np\n",
    "import pandas as pd\n",
    "import matplotlib.pyplot as plt\n"
   ],
   "metadata": {
    "collapsed": false,
    "pycharm": {
     "name": "#%%\n"
    }
   }
  },
  {
   "cell_type": "code",
   "execution_count": 211,
   "outputs": [],
   "source": [
    "path_data = \"../data\""
   ],
   "metadata": {
    "collapsed": false,
    "pycharm": {
     "name": "#%%\n"
    }
   }
  },
  {
   "cell_type": "code",
   "execution_count": 212,
   "outputs": [],
   "source": [
    "filename_ligne = \"Ligne.csv\""
   ],
   "metadata": {
    "collapsed": false,
    "pycharm": {
     "name": "#%%\n"
    }
   }
  },
  {
   "cell_type": "code",
   "execution_count": 213,
   "outputs": [],
   "source": [
    "path_data_ligne = os.path.join(path_data, filename_ligne)"
   ],
   "metadata": {
    "collapsed": false,
    "pycharm": {
     "name": "#%%\n"
    }
   }
  },
  {
   "cell_type": "code",
   "execution_count": 214,
   "outputs": [
    {
     "name": "stderr",
     "output_type": "stream",
     "text": [
      "c:\\users\\ahmed\\appdata\\roaming\\jetbrains\\dataspell2021.3\\projects\\workspace\\venv\\lib\\site-packages\\IPython\\core\\interactiveshell.py:3457: DtypeWarning: Columns (12) have mixed types.Specify dtype option on import or set low_memory=False.\n",
      "  exec(code_obj, self.user_global_ns, self.user_ns)\n"
     ]
    }
   ],
   "source": [
    "df_ligne = pd.read_csv(path_data_ligne, sep=\",\")"
   ],
   "metadata": {
    "collapsed": false,
    "pycharm": {
     "name": "#%%\n"
    }
   }
  },
  {
   "cell_type": "code",
   "execution_count": 215,
   "outputs": [
    {
     "data": {
      "text/plain": "              N° CDE    L  Qte Type  CodeClient DateCreation Gestionnaire  \\\n0          140500651  1.0  1.0    C      2625.0    4/10/2018          ALU   \n1          140500651  2.0  1.0    C      2625.0    4/10/2018          ALU   \n2          140600145  1.0  8.0    C      5505.0    4/18/2018          ALU   \n3          140600145  2.0  1.0    C      5505.0    4/18/2018          ALU   \n4          140600145  3.0  1.0    C      5505.0    4/18/2018          ALU   \n...              ...  ...  ...  ...         ...          ...          ...   \n133753  220400553-00  1.0  1.0    D      7702.0    4/13/2022         BOIS   \n133754  220400560-00  1.0  1.0    D      5959.0    4/13/2022          ALU   \n133755  220400560-00  2.0  0.0    D      5959.0    4/13/2022          ALU   \n133756  220400561-00  1.0  1.0    D     12560.0    4/13/2022          ALU   \n133757  220400561-01  1.0  1.0    D     12560.0    4/14/2022          ALU   \n\n       Type Menuiserie Ouverture Nb Zone     CA HT Transformation Unnamed: 12  \n0                   HO        OF       1   1032.90   140500651-02         NaN  \n1                   HO        OF       1   1032.90   140500651-02         NaN  \n2                   FE        OF       1  13566.08   140600145-03         NaN  \n3                   PF        OF       1   2126.06   140600145-03         NaN  \n4                   FE        OF       1   1268.37   140600145-03         NaN  \n...                ...       ...     ...       ...            ...         ...  \n133753             ODB       BAS       1    608.00            NaN         NaN  \n133754             ODB        FX       1   1138.45            NaN         NaN  \n133755             ODB        FX       2      0.00            NaN         NaN  \n133756              FE        OF       1   1374.98            NaN         NaN  \n133757              FE        OF       1   1374.98            NaN         NaN  \n\n[133758 rows x 13 columns]",
      "text/html": "<div>\n<style scoped>\n    .dataframe tbody tr th:only-of-type {\n        vertical-align: middle;\n    }\n\n    .dataframe tbody tr th {\n        vertical-align: top;\n    }\n\n    .dataframe thead th {\n        text-align: right;\n    }\n</style>\n<table border=\"1\" class=\"dataframe\">\n  <thead>\n    <tr style=\"text-align: right;\">\n      <th></th>\n      <th>N° CDE</th>\n      <th>L</th>\n      <th>Qte</th>\n      <th>Type</th>\n      <th>CodeClient</th>\n      <th>DateCreation</th>\n      <th>Gestionnaire</th>\n      <th>Type Menuiserie</th>\n      <th>Ouverture</th>\n      <th>Nb Zone</th>\n      <th>CA HT</th>\n      <th>Transformation</th>\n      <th>Unnamed: 12</th>\n    </tr>\n  </thead>\n  <tbody>\n    <tr>\n      <th>0</th>\n      <td>140500651</td>\n      <td>1.0</td>\n      <td>1.0</td>\n      <td>C</td>\n      <td>2625.0</td>\n      <td>4/10/2018</td>\n      <td>ALU</td>\n      <td>HO</td>\n      <td>OF</td>\n      <td>1</td>\n      <td>1032.90</td>\n      <td>140500651-02</td>\n      <td>NaN</td>\n    </tr>\n    <tr>\n      <th>1</th>\n      <td>140500651</td>\n      <td>2.0</td>\n      <td>1.0</td>\n      <td>C</td>\n      <td>2625.0</td>\n      <td>4/10/2018</td>\n      <td>ALU</td>\n      <td>HO</td>\n      <td>OF</td>\n      <td>1</td>\n      <td>1032.90</td>\n      <td>140500651-02</td>\n      <td>NaN</td>\n    </tr>\n    <tr>\n      <th>2</th>\n      <td>140600145</td>\n      <td>1.0</td>\n      <td>8.0</td>\n      <td>C</td>\n      <td>5505.0</td>\n      <td>4/18/2018</td>\n      <td>ALU</td>\n      <td>FE</td>\n      <td>OF</td>\n      <td>1</td>\n      <td>13566.08</td>\n      <td>140600145-03</td>\n      <td>NaN</td>\n    </tr>\n    <tr>\n      <th>3</th>\n      <td>140600145</td>\n      <td>2.0</td>\n      <td>1.0</td>\n      <td>C</td>\n      <td>5505.0</td>\n      <td>4/18/2018</td>\n      <td>ALU</td>\n      <td>PF</td>\n      <td>OF</td>\n      <td>1</td>\n      <td>2126.06</td>\n      <td>140600145-03</td>\n      <td>NaN</td>\n    </tr>\n    <tr>\n      <th>4</th>\n      <td>140600145</td>\n      <td>3.0</td>\n      <td>1.0</td>\n      <td>C</td>\n      <td>5505.0</td>\n      <td>4/18/2018</td>\n      <td>ALU</td>\n      <td>FE</td>\n      <td>OF</td>\n      <td>1</td>\n      <td>1268.37</td>\n      <td>140600145-03</td>\n      <td>NaN</td>\n    </tr>\n    <tr>\n      <th>...</th>\n      <td>...</td>\n      <td>...</td>\n      <td>...</td>\n      <td>...</td>\n      <td>...</td>\n      <td>...</td>\n      <td>...</td>\n      <td>...</td>\n      <td>...</td>\n      <td>...</td>\n      <td>...</td>\n      <td>...</td>\n      <td>...</td>\n    </tr>\n    <tr>\n      <th>133753</th>\n      <td>220400553-00</td>\n      <td>1.0</td>\n      <td>1.0</td>\n      <td>D</td>\n      <td>7702.0</td>\n      <td>4/13/2022</td>\n      <td>BOIS</td>\n      <td>ODB</td>\n      <td>BAS</td>\n      <td>1</td>\n      <td>608.00</td>\n      <td>NaN</td>\n      <td>NaN</td>\n    </tr>\n    <tr>\n      <th>133754</th>\n      <td>220400560-00</td>\n      <td>1.0</td>\n      <td>1.0</td>\n      <td>D</td>\n      <td>5959.0</td>\n      <td>4/13/2022</td>\n      <td>ALU</td>\n      <td>ODB</td>\n      <td>FX</td>\n      <td>1</td>\n      <td>1138.45</td>\n      <td>NaN</td>\n      <td>NaN</td>\n    </tr>\n    <tr>\n      <th>133755</th>\n      <td>220400560-00</td>\n      <td>2.0</td>\n      <td>0.0</td>\n      <td>D</td>\n      <td>5959.0</td>\n      <td>4/13/2022</td>\n      <td>ALU</td>\n      <td>ODB</td>\n      <td>FX</td>\n      <td>2</td>\n      <td>0.00</td>\n      <td>NaN</td>\n      <td>NaN</td>\n    </tr>\n    <tr>\n      <th>133756</th>\n      <td>220400561-00</td>\n      <td>1.0</td>\n      <td>1.0</td>\n      <td>D</td>\n      <td>12560.0</td>\n      <td>4/13/2022</td>\n      <td>ALU</td>\n      <td>FE</td>\n      <td>OF</td>\n      <td>1</td>\n      <td>1374.98</td>\n      <td>NaN</td>\n      <td>NaN</td>\n    </tr>\n    <tr>\n      <th>133757</th>\n      <td>220400561-01</td>\n      <td>1.0</td>\n      <td>1.0</td>\n      <td>D</td>\n      <td>12560.0</td>\n      <td>4/14/2022</td>\n      <td>ALU</td>\n      <td>FE</td>\n      <td>OF</td>\n      <td>1</td>\n      <td>1374.98</td>\n      <td>NaN</td>\n      <td>NaN</td>\n    </tr>\n  </tbody>\n</table>\n<p>133758 rows × 13 columns</p>\n</div>"
     },
     "execution_count": 215,
     "metadata": {},
     "output_type": "execute_result"
    }
   ],
   "source": [
    "df_ligne"
   ],
   "metadata": {
    "collapsed": false,
    "pycharm": {
     "name": "#%%\n"
    }
   }
  },
  {
   "cell_type": "code",
   "execution_count": 216,
   "outputs": [],
   "source": [
    "df_ligne = df_ligne.loc[:, [\"Type\", \"CodeClient\", \"Gestionnaire\", \"DateCreation\"]]"
   ],
   "metadata": {
    "collapsed": false,
    "pycharm": {
     "name": "#%%\n"
    }
   }
  },
  {
   "cell_type": "code",
   "execution_count": 217,
   "outputs": [
    {
     "name": "stdout",
     "output_type": "stream",
     "text": [
      "      CodeClient Gestionnaire Type  Nombre\n",
      "0            1.0          ALU    C      10\n",
      "1            1.0         BOIS    C       5\n",
      "2            1.0          PVC    C       6\n",
      "3            3.0          ALU    C      12\n",
      "4            3.0         BOIS    C       9\n",
      "...          ...          ...  ...     ...\n",
      "4410     14691.0          ALU    C       1\n",
      "4411     14706.0          PVC    C       2\n",
      "4412     14709.0          ALU    C       2\n",
      "4413     14727.0          ALU    C       1\n",
      "4414     14738.0          PVC    C       1\n",
      "\n",
      "[4415 rows x 4 columns]\n"
     ]
    }
   ],
   "source": [
    "df_ligne = df_ligne.rename(columns={'DateCreation': 'Nombre'})\n",
    "df_ligne = df_ligne[df_ligne.Type != 'D']\n",
    "print(df_ligne.groupby([\"CodeClient\", \"Gestionnaire\",\"Type\"])[\"Nombre\"].count().reset_index())"
   ],
   "metadata": {
    "collapsed": false,
    "pycharm": {
     "name": "#%%\n"
    }
   }
  },
  {
   "cell_type": "code",
   "execution_count": 218,
   "outputs": [
    {
     "data": {
      "text/plain": "      CodeClient  ALU  BOIS  PVC\n0              1   10     5    6\n1              3   12     9    4\n2             12    1     0    0\n3             13    0     1    0\n4             22    1     0    0\n...          ...  ...   ...  ...\n2788       14691    1     0    0\n2789       14706    0     0    2\n2790       14709    2     0    0\n2791       14727    1     0    0\n2792       14738    0     0    1\n\n[2793 rows x 4 columns]",
      "text/html": "<div>\n<style scoped>\n    .dataframe tbody tr th:only-of-type {\n        vertical-align: middle;\n    }\n\n    .dataframe tbody tr th {\n        vertical-align: top;\n    }\n\n    .dataframe thead th {\n        text-align: right;\n    }\n</style>\n<table border=\"1\" class=\"dataframe\">\n  <thead>\n    <tr style=\"text-align: right;\">\n      <th></th>\n      <th>CodeClient</th>\n      <th>ALU</th>\n      <th>BOIS</th>\n      <th>PVC</th>\n    </tr>\n  </thead>\n  <tbody>\n    <tr>\n      <th>0</th>\n      <td>1</td>\n      <td>10</td>\n      <td>5</td>\n      <td>6</td>\n    </tr>\n    <tr>\n      <th>1</th>\n      <td>3</td>\n      <td>12</td>\n      <td>9</td>\n      <td>4</td>\n    </tr>\n    <tr>\n      <th>2</th>\n      <td>12</td>\n      <td>1</td>\n      <td>0</td>\n      <td>0</td>\n    </tr>\n    <tr>\n      <th>3</th>\n      <td>13</td>\n      <td>0</td>\n      <td>1</td>\n      <td>0</td>\n    </tr>\n    <tr>\n      <th>4</th>\n      <td>22</td>\n      <td>1</td>\n      <td>0</td>\n      <td>0</td>\n    </tr>\n    <tr>\n      <th>...</th>\n      <td>...</td>\n      <td>...</td>\n      <td>...</td>\n      <td>...</td>\n    </tr>\n    <tr>\n      <th>2788</th>\n      <td>14691</td>\n      <td>1</td>\n      <td>0</td>\n      <td>0</td>\n    </tr>\n    <tr>\n      <th>2789</th>\n      <td>14706</td>\n      <td>0</td>\n      <td>0</td>\n      <td>2</td>\n    </tr>\n    <tr>\n      <th>2790</th>\n      <td>14709</td>\n      <td>2</td>\n      <td>0</td>\n      <td>0</td>\n    </tr>\n    <tr>\n      <th>2791</th>\n      <td>14727</td>\n      <td>1</td>\n      <td>0</td>\n      <td>0</td>\n    </tr>\n    <tr>\n      <th>2792</th>\n      <td>14738</td>\n      <td>0</td>\n      <td>0</td>\n      <td>1</td>\n    </tr>\n  </tbody>\n</table>\n<p>2793 rows × 4 columns</p>\n</div>"
     },
     "execution_count": 218,
     "metadata": {},
     "output_type": "execute_result"
    }
   ],
   "source": [
    "df_ligne = pd.pivot_table(\n",
    "    df_ligne,\n",
    "    index=['CodeClient'],\n",
    "    columns='Gestionnaire',\n",
    "    values='Nombre',\n",
    "    aggfunc='count',\n",
    ").reset_index().rename_axis(None, axis=1)\n",
    "\n",
    "df_ligne['ALU'] = df_ligne['ALU'].fillna(0)\n",
    "df_ligne['BOIS'] = df_ligne['BOIS'].fillna(0)\n",
    "df_ligne['PVC'] = df_ligne['PVC'].fillna(0)\n",
    "\n",
    "df_ligne = df_ligne.astype({\n",
    "    \"CodeClient\": int,\n",
    "    'ALU': int,\n",
    "    'BOIS': int,\n",
    "    'PVC': int\n",
    "})\n",
    "\n",
    "df_ligne"
   ],
   "metadata": {
    "collapsed": false,
    "pycharm": {
     "name": "#%%\n"
    }
   }
  },
  {
   "cell_type": "markdown",
   "source": [],
   "metadata": {
    "collapsed": false
   }
  },
  {
   "cell_type": "code",
   "execution_count": 219,
   "outputs": [],
   "source": [
    "df_ligne[\"PourcentageDeCommandePvc\"] = df_ligne[\"PVC\"] / (df_ligne[\"ALU\"] + df_ligne[\"BOIS\"] + df_ligne[\"PVC\"]) * 100"
   ],
   "metadata": {
    "collapsed": false,
    "pycharm": {
     "name": "#%%\n"
    }
   }
  },
  {
   "cell_type": "code",
   "execution_count": 220,
   "outputs": [
    {
     "data": {
      "text/plain": "      CodeClient  ALU  BOIS  PVC  PourcentageDeCommandePvc\n0              1   10     5    6                 28.571429\n1              3   12     9    4                 16.000000\n2             12    1     0    0                  0.000000\n3             13    0     1    0                  0.000000\n4             22    1     0    0                  0.000000\n...          ...  ...   ...  ...                       ...\n2788       14691    1     0    0                  0.000000\n2789       14706    0     0    2                100.000000\n2790       14709    2     0    0                  0.000000\n2791       14727    1     0    0                  0.000000\n2792       14738    0     0    1                100.000000\n\n[2793 rows x 5 columns]",
      "text/html": "<div>\n<style scoped>\n    .dataframe tbody tr th:only-of-type {\n        vertical-align: middle;\n    }\n\n    .dataframe tbody tr th {\n        vertical-align: top;\n    }\n\n    .dataframe thead th {\n        text-align: right;\n    }\n</style>\n<table border=\"1\" class=\"dataframe\">\n  <thead>\n    <tr style=\"text-align: right;\">\n      <th></th>\n      <th>CodeClient</th>\n      <th>ALU</th>\n      <th>BOIS</th>\n      <th>PVC</th>\n      <th>PourcentageDeCommandePvc</th>\n    </tr>\n  </thead>\n  <tbody>\n    <tr>\n      <th>0</th>\n      <td>1</td>\n      <td>10</td>\n      <td>5</td>\n      <td>6</td>\n      <td>28.571429</td>\n    </tr>\n    <tr>\n      <th>1</th>\n      <td>3</td>\n      <td>12</td>\n      <td>9</td>\n      <td>4</td>\n      <td>16.000000</td>\n    </tr>\n    <tr>\n      <th>2</th>\n      <td>12</td>\n      <td>1</td>\n      <td>0</td>\n      <td>0</td>\n      <td>0.000000</td>\n    </tr>\n    <tr>\n      <th>3</th>\n      <td>13</td>\n      <td>0</td>\n      <td>1</td>\n      <td>0</td>\n      <td>0.000000</td>\n    </tr>\n    <tr>\n      <th>4</th>\n      <td>22</td>\n      <td>1</td>\n      <td>0</td>\n      <td>0</td>\n      <td>0.000000</td>\n    </tr>\n    <tr>\n      <th>...</th>\n      <td>...</td>\n      <td>...</td>\n      <td>...</td>\n      <td>...</td>\n      <td>...</td>\n    </tr>\n    <tr>\n      <th>2788</th>\n      <td>14691</td>\n      <td>1</td>\n      <td>0</td>\n      <td>0</td>\n      <td>0.000000</td>\n    </tr>\n    <tr>\n      <th>2789</th>\n      <td>14706</td>\n      <td>0</td>\n      <td>0</td>\n      <td>2</td>\n      <td>100.000000</td>\n    </tr>\n    <tr>\n      <th>2790</th>\n      <td>14709</td>\n      <td>2</td>\n      <td>0</td>\n      <td>0</td>\n      <td>0.000000</td>\n    </tr>\n    <tr>\n      <th>2791</th>\n      <td>14727</td>\n      <td>1</td>\n      <td>0</td>\n      <td>0</td>\n      <td>0.000000</td>\n    </tr>\n    <tr>\n      <th>2792</th>\n      <td>14738</td>\n      <td>0</td>\n      <td>0</td>\n      <td>1</td>\n      <td>100.000000</td>\n    </tr>\n  </tbody>\n</table>\n<p>2793 rows × 5 columns</p>\n</div>"
     },
     "execution_count": 220,
     "metadata": {},
     "output_type": "execute_result"
    }
   ],
   "source": [
    "df_ligne"
   ],
   "metadata": {
    "collapsed": false,
    "pycharm": {
     "name": "#%%\n"
    }
   }
  },
  {
   "cell_type": "code",
   "execution_count": 221,
   "outputs": [
    {
     "data": {
      "text/plain": "      CodeClient  ALU  BOIS  PVC  PourcentageDeCommandePvc\n0              1   10     5    6                      29.0\n1              3   12     9    4                      16.0\n2             12    1     0    0                       0.0\n3             13    0     1    0                       0.0\n4             22    1     0    0                       0.0\n...          ...  ...   ...  ...                       ...\n2788       14691    1     0    0                       0.0\n2789       14706    0     0    2                     100.0\n2790       14709    2     0    0                       0.0\n2791       14727    1     0    0                       0.0\n2792       14738    0     0    1                     100.0\n\n[2793 rows x 5 columns]",
      "text/html": "<div>\n<style scoped>\n    .dataframe tbody tr th:only-of-type {\n        vertical-align: middle;\n    }\n\n    .dataframe tbody tr th {\n        vertical-align: top;\n    }\n\n    .dataframe thead th {\n        text-align: right;\n    }\n</style>\n<table border=\"1\" class=\"dataframe\">\n  <thead>\n    <tr style=\"text-align: right;\">\n      <th></th>\n      <th>CodeClient</th>\n      <th>ALU</th>\n      <th>BOIS</th>\n      <th>PVC</th>\n      <th>PourcentageDeCommandePvc</th>\n    </tr>\n  </thead>\n  <tbody>\n    <tr>\n      <th>0</th>\n      <td>1</td>\n      <td>10</td>\n      <td>5</td>\n      <td>6</td>\n      <td>29.0</td>\n    </tr>\n    <tr>\n      <th>1</th>\n      <td>3</td>\n      <td>12</td>\n      <td>9</td>\n      <td>4</td>\n      <td>16.0</td>\n    </tr>\n    <tr>\n      <th>2</th>\n      <td>12</td>\n      <td>1</td>\n      <td>0</td>\n      <td>0</td>\n      <td>0.0</td>\n    </tr>\n    <tr>\n      <th>3</th>\n      <td>13</td>\n      <td>0</td>\n      <td>1</td>\n      <td>0</td>\n      <td>0.0</td>\n    </tr>\n    <tr>\n      <th>4</th>\n      <td>22</td>\n      <td>1</td>\n      <td>0</td>\n      <td>0</td>\n      <td>0.0</td>\n    </tr>\n    <tr>\n      <th>...</th>\n      <td>...</td>\n      <td>...</td>\n      <td>...</td>\n      <td>...</td>\n      <td>...</td>\n    </tr>\n    <tr>\n      <th>2788</th>\n      <td>14691</td>\n      <td>1</td>\n      <td>0</td>\n      <td>0</td>\n      <td>0.0</td>\n    </tr>\n    <tr>\n      <th>2789</th>\n      <td>14706</td>\n      <td>0</td>\n      <td>0</td>\n      <td>2</td>\n      <td>100.0</td>\n    </tr>\n    <tr>\n      <th>2790</th>\n      <td>14709</td>\n      <td>2</td>\n      <td>0</td>\n      <td>0</td>\n      <td>0.0</td>\n    </tr>\n    <tr>\n      <th>2791</th>\n      <td>14727</td>\n      <td>1</td>\n      <td>0</td>\n      <td>0</td>\n      <td>0.0</td>\n    </tr>\n    <tr>\n      <th>2792</th>\n      <td>14738</td>\n      <td>0</td>\n      <td>0</td>\n      <td>1</td>\n      <td>100.0</td>\n    </tr>\n  </tbody>\n</table>\n<p>2793 rows × 5 columns</p>\n</div>"
     },
     "execution_count": 221,
     "metadata": {},
     "output_type": "execute_result"
    }
   ],
   "source": [
    "df_ligne = df_ligne.round()\n",
    "df_ligne"
   ],
   "metadata": {
    "collapsed": false,
    "pycharm": {
     "name": "#%%\n"
    }
   }
  },
  {
   "cell_type": "code",
   "execution_count": 222,
   "outputs": [],
   "source": [
    "df_ligne = df_ligne.groupby([\"PourcentageDeCommandePvc\"])[\"CodeClient\"].count().reset_index()"
   ],
   "metadata": {
    "collapsed": false,
    "pycharm": {
     "name": "#%%\n"
    }
   }
  },
  {
   "cell_type": "code",
   "execution_count": 223,
   "outputs": [
    {
     "data": {
      "text/plain": "    PourcentageDeCommandePvc  NombreDeClient\n0                        0.0            1145\n1                        1.0               1\n2                        2.0               2\n3                        3.0               4\n4                        4.0               5\n..                       ...             ...\n88                      92.0               1\n89                      93.0               2\n90                      94.0               2\n91                      97.0               1\n92                     100.0             610\n\n[93 rows x 2 columns]",
      "text/html": "<div>\n<style scoped>\n    .dataframe tbody tr th:only-of-type {\n        vertical-align: middle;\n    }\n\n    .dataframe tbody tr th {\n        vertical-align: top;\n    }\n\n    .dataframe thead th {\n        text-align: right;\n    }\n</style>\n<table border=\"1\" class=\"dataframe\">\n  <thead>\n    <tr style=\"text-align: right;\">\n      <th></th>\n      <th>PourcentageDeCommandePvc</th>\n      <th>NombreDeClient</th>\n    </tr>\n  </thead>\n  <tbody>\n    <tr>\n      <th>0</th>\n      <td>0.0</td>\n      <td>1145</td>\n    </tr>\n    <tr>\n      <th>1</th>\n      <td>1.0</td>\n      <td>1</td>\n    </tr>\n    <tr>\n      <th>2</th>\n      <td>2.0</td>\n      <td>2</td>\n    </tr>\n    <tr>\n      <th>3</th>\n      <td>3.0</td>\n      <td>4</td>\n    </tr>\n    <tr>\n      <th>4</th>\n      <td>4.0</td>\n      <td>5</td>\n    </tr>\n    <tr>\n      <th>...</th>\n      <td>...</td>\n      <td>...</td>\n    </tr>\n    <tr>\n      <th>88</th>\n      <td>92.0</td>\n      <td>1</td>\n    </tr>\n    <tr>\n      <th>89</th>\n      <td>93.0</td>\n      <td>2</td>\n    </tr>\n    <tr>\n      <th>90</th>\n      <td>94.0</td>\n      <td>2</td>\n    </tr>\n    <tr>\n      <th>91</th>\n      <td>97.0</td>\n      <td>1</td>\n    </tr>\n    <tr>\n      <th>92</th>\n      <td>100.0</td>\n      <td>610</td>\n    </tr>\n  </tbody>\n</table>\n<p>93 rows × 2 columns</p>\n</div>"
     },
     "execution_count": 223,
     "metadata": {},
     "output_type": "execute_result"
    }
   ],
   "source": [
    "df_ligne.rename(columns = {'CodeClient':'NombreDeClient'}, inplace = True)\n",
    "df_ligne"
   ],
   "metadata": {
    "collapsed": false,
    "pycharm": {
     "name": "#%%\n"
    }
   }
  },
  {
   "cell_type": "code",
   "execution_count": 224,
   "outputs": [
    {
     "data": {
      "text/plain": "<AxesSubplot:xlabel='PourcentageDeCommandePvc'>"
     },
     "execution_count": 224,
     "metadata": {},
     "output_type": "execute_result"
    },
    {
     "data": {
      "text/plain": "<Figure size 432x288 with 1 Axes>",
      "image/png": "[encoded data removed]"
     },
     "metadata": {
      "needs_background": "light"
     },
     "output_type": "display_data"
    }
   ],
   "source": [
    "nombreDeClientParPourcentageDeCommande = df_ligne.plot.line(x='PourcentageDeCommandePvc', y='NombreDeClient', rot=0)\n",
    "nombreDeClientParPourcentageDeCommande"
   ],
   "metadata": {
    "collapsed": false,
    "pycharm": {
     "name": "#%%\n"
    }
   }
  },
  {
   "cell_type": "code",
   "execution_count": 224,
   "outputs": [],
   "source": [],
   "metadata": {
    "collapsed": false,
    "pycharm": {
     "name": "#%%\n"
    }
   }
  }
 ],
 "metadata": {
  "kernelspec": {
   "display_name": "Python 3",
   "language": "python",
   "name": "python3"
  },
  "language_info": {
   "codemirror_mode": {
    "name": "ipython",
    "version": 2
   },
   "file_extension": ".py",
   "mimetype": "text/x-python",
   "name": "python",
   "nbconvert_exporter": "python",
   "pygments_lexer": "ipython2",
   "version": "2.7.6"
  }
 },
 "nbformat": 4,
 "nbformat_minor": 0
}