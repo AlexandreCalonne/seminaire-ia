{
 "cells": [
  {
   "cell_type": "code",
   "execution_count": 194,
   "metadata": {
    "collapsed": true
   },
   "outputs": [],
   "source": [
    "import os\n",
    "\n",
    "import numpy as np\n",
    "import pandas as pd"
   ]
  },
  {
   "cell_type": "code",
   "execution_count": 195,
   "outputs": [],
   "source": [
    "path_data = \"../data\""
   ],
   "metadata": {
    "collapsed": false,
    "pycharm": {
     "name": "#%%\n"
    }
   }
  },
  {
   "cell_type": "code",
   "execution_count": 196,
   "outputs": [],
   "source": [
    "filename_ligne = \"Ligne.csv\""
   ],
   "metadata": {
    "collapsed": false,
    "pycharm": {
     "name": "#%%\n"
    }
   }
  },
  {
   "cell_type": "code",
   "execution_count": 197,
   "outputs": [],
   "source": [
    "path_data_ligne = os.path.join(path_data, filename_ligne)"
   ],
   "metadata": {
    "collapsed": false,
    "pycharm": {
     "name": "#%%\n"
    }
   }
  },
  {
   "cell_type": "code",
   "execution_count": 198,
   "outputs": [
    {
     "name": "stderr",
     "output_type": "stream",
     "text": [
      "c:\\users\\ahmed\\appdata\\roaming\\jetbrains\\dataspell2021.3\\projects\\workspace\\venv\\lib\\site-packages\\IPython\\core\\interactiveshell.py:3457: DtypeWarning: Columns (12) have mixed types.Specify dtype option on import or set low_memory=False.\n",
      "  exec(code_obj, self.user_global_ns, self.user_ns)\n"
     ]
    }
   ],
   "source": [
    "df_ligne = pd.read_csv(path_data_ligne, sep=\",\")"
   ],
   "metadata": {
    "collapsed": false,
    "pycharm": {
     "name": "#%%\n"
    }
   }
  },
  {
   "cell_type": "code",
   "execution_count": 199,
   "outputs": [
    {
     "data": {
      "text/plain": "              N° CDE    L  Qte Type  CodeClient DateCreation Gestionnaire  \\\n0          140500651  1.0  1.0    C      2625.0    4/10/2018          ALU   \n1          140500651  2.0  1.0    C      2625.0    4/10/2018          ALU   \n2          140600145  1.0  8.0    C      5505.0    4/18/2018          ALU   \n3          140600145  2.0  1.0    C      5505.0    4/18/2018          ALU   \n4          140600145  3.0  1.0    C      5505.0    4/18/2018          ALU   \n...              ...  ...  ...  ...         ...          ...          ...   \n133753  220400553-00  1.0  1.0    D      7702.0    4/13/2022         BOIS   \n133754  220400560-00  1.0  1.0    D      5959.0    4/13/2022          ALU   \n133755  220400560-00  2.0  0.0    D      5959.0    4/13/2022          ALU   \n133756  220400561-00  1.0  1.0    D     12560.0    4/13/2022          ALU   \n133757  220400561-01  1.0  1.0    D     12560.0    4/14/2022          ALU   \n\n       Type Menuiserie Ouverture Nb Zone     CA HT Transformation Unnamed: 12  \n0                   HO        OF       1   1032.90   140500651-02         NaN  \n1                   HO        OF       1   1032.90   140500651-02         NaN  \n2                   FE        OF       1  13566.08   140600145-03         NaN  \n3                   PF        OF       1   2126.06   140600145-03         NaN  \n4                   FE        OF       1   1268.37   140600145-03         NaN  \n...                ...       ...     ...       ...            ...         ...  \n133753             ODB       BAS       1    608.00            NaN         NaN  \n133754             ODB        FX       1   1138.45            NaN         NaN  \n133755             ODB        FX       2      0.00            NaN         NaN  \n133756              FE        OF       1   1374.98            NaN         NaN  \n133757              FE        OF       1   1374.98            NaN         NaN  \n\n[133758 rows x 13 columns]",
      "text/html": "<div>\n<style scoped>\n    .dataframe tbody tr th:only-of-type {\n        vertical-align: middle;\n    }\n\n    .dataframe tbody tr th {\n        vertical-align: top;\n    }\n\n    .dataframe thead th {\n        text-align: right;\n    }\n</style>\n<table border=\"1\" class=\"dataframe\">\n  <thead>\n    <tr style=\"text-align: right;\">\n      <th></th>\n      <th>N° CDE</th>\n      <th>L</th>\n      <th>Qte</th>\n      <th>Type</th>\n      <th>CodeClient</th>\n      <th>DateCreation</th>\n      <th>Gestionnaire</th>\n      <th>Type Menuiserie</th>\n      <th>Ouverture</th>\n      <th>Nb Zone</th>\n      <th>CA HT</th>\n      <th>Transformation</th>\n      <th>Unnamed: 12</th>\n    </tr>\n  </thead>\n  <tbody>\n    <tr>\n      <th>0</th>\n      <td>140500651</td>\n      <td>1.0</td>\n      <td>1.0</td>\n      <td>C</td>\n      <td>2625.0</td>\n      <td>4/10/2018</td>\n      <td>ALU</td>\n      <td>HO</td>\n      <td>OF</td>\n      <td>1</td>\n      <td>1032.90</td>\n      <td>140500651-02</td>\n      <td>NaN</td>\n    </tr>\n    <tr>\n      <th>1</th>\n      <td>140500651</td>\n      <td>2.0</td>\n      <td>1.0</td>\n      <td>C</td>\n      <td>2625.0</td>\n      <td>4/10/2018</td>\n      <td>ALU</td>\n      <td>HO</td>\n      <td>OF</td>\n      <td>1</td>\n      <td>1032.90</td>\n      <td>140500651-02</td>\n      <td>NaN</td>\n    </tr>\n    <tr>\n      <th>2</th>\n      <td>140600145</td>\n      <td>1.0</td>\n      <td>8.0</td>\n      <td>C</td>\n      <td>5505.0</td>\n      <td>4/18/2018</td>\n      <td>ALU</td>\n      <td>FE</td>\n      <td>OF</td>\n      <td>1</td>\n      <td>13566.08</td>\n      <td>140600145-03</td>\n      <td>NaN</td>\n    </tr>\n    <tr>\n      <th>3</th>\n      <td>140600145</td>\n      <td>2.0</td>\n      <td>1.0</td>\n      <td>C</td>\n      <td>5505.0</td>\n      <td>4/18/2018</td>\n      <td>ALU</td>\n      <td>PF</td>\n      <td>OF</td>\n      <td>1</td>\n      <td>2126.06</td>\n      <td>140600145-03</td>\n      <td>NaN</td>\n    </tr>\n    <tr>\n      <th>4</th>\n      <td>140600145</td>\n      <td>3.0</td>\n      <td>1.0</td>\n      <td>C</td>\n      <td>5505.0</td>\n      <td>4/18/2018</td>\n      <td>ALU</td>\n      <td>FE</td>\n      <td>OF</td>\n      <td>1</td>\n      <td>1268.37</td>\n      <td>140600145-03</td>\n      <td>NaN</td>\n    </tr>\n    <tr>\n      <th>...</th>\n      <td>...</td>\n      <td>...</td>\n      <td>...</td>\n      <td>...</td>\n      <td>...</td>\n      <td>...</td>\n      <td>...</td>\n      <td>...</td>\n      <td>...</td>\n      <td>...</td>\n      <td>...</td>\n      <td>...</td>\n      <td>...</td>\n    </tr>\n    <tr>\n      <th>133753</th>\n      <td>220400553-00</td>\n      <td>1.0</td>\n      <td>1.0</td>\n      <td>D</td>\n      <td>7702.0</td>\n      <td>4/13/2022</td>\n      <td>BOIS</td>\n      <td>ODB</td>\n      <td>BAS</td>\n      <td>1</td>\n      <td>608.00</td>\n      <td>NaN</td>\n      <td>NaN</td>\n    </tr>\n    <tr>\n      <th>133754</th>\n      <td>220400560-00</td>\n      <td>1.0</td>\n      <td>1.0</td>\n      <td>D</td>\n      <td>5959.0</td>\n      <td>4/13/2022</td>\n      <td>ALU</td>\n      <td>ODB</td>\n      <td>FX</td>\n      <td>1</td>\n      <td>1138.45</td>\n      <td>NaN</td>\n      <td>NaN</td>\n    </tr>\n    <tr>\n      <th>133755</th>\n      <td>220400560-00</td>\n      <td>2.0</td>\n      <td>0.0</td>\n      <td>D</td>\n      <td>5959.0</td>\n      <td>4/13/2022</td>\n      <td>ALU</td>\n      <td>ODB</td>\n      <td>FX</td>\n      <td>2</td>\n      <td>0.00</td>\n      <td>NaN</td>\n      <td>NaN</td>\n    </tr>\n    <tr>\n      <th>133756</th>\n      <td>220400561-00</td>\n      <td>1.0</td>\n      <td>1.0</td>\n      <td>D</td>\n      <td>12560.0</td>\n      <td>4/13/2022</td>\n      <td>ALU</td>\n      <td>FE</td>\n      <td>OF</td>\n      <td>1</td>\n      <td>1374.98</td>\n      <td>NaN</td>\n      <td>NaN</td>\n    </tr>\n    <tr>\n      <th>133757</th>\n      <td>220400561-01</td>\n      <td>1.0</td>\n      <td>1.0</td>\n      <td>D</td>\n      <td>12560.0</td>\n      <td>4/14/2022</td>\n      <td>ALU</td>\n      <td>FE</td>\n      <td>OF</td>\n      <td>1</td>\n      <td>1374.98</td>\n      <td>NaN</td>\n      <td>NaN</td>\n    </tr>\n  </tbody>\n</table>\n<p>133758 rows × 13 columns</p>\n</div>"
     },
     "execution_count": 199,
     "metadata": {},
     "output_type": "execute_result"
    }
   ],
   "source": [
    "df_ligne"
   ],
   "metadata": {
    "collapsed": false,
    "pycharm": {
     "name": "#%%\n"
    }
   }
  },
  {
   "cell_type": "code",
   "execution_count": 200,
   "outputs": [],
   "source": [
    "df_ligne = df_ligne.loc[:, [\"Type\", \"CodeClient\", \"Gestionnaire\", \"DateCreation\"]]"
   ],
   "metadata": {
    "collapsed": false,
    "pycharm": {
     "name": "#%%\n"
    }
   }
  },
  {
   "cell_type": "code",
   "execution_count": 201,
   "outputs": [],
   "source": [
    "df_ligne = df_ligne[df_ligne.Type != 'D']"
   ],
   "metadata": {
    "collapsed": false,
    "pycharm": {
     "name": "#%%\n"
    }
   }
  },
  {
   "cell_type": "code",
   "execution_count": 202,
   "outputs": [],
   "source": [
    "df_ligne = df_ligne[df_ligne.Gestionnaire == 'PVC']"
   ],
   "metadata": {
    "collapsed": false,
    "pycharm": {
     "name": "#%%\n"
    }
   }
  },
  {
   "cell_type": "code",
   "execution_count": 203,
   "outputs": [
    {
     "name": "stdout",
     "output_type": "stream",
     "text": [
      "       Type  CodeClient Gestionnaire DateCreation\n",
      "10        C     10497.0          PVC   2018-07-30\n",
      "59        C      5399.0          PVC   2019-05-07\n",
      "69        C      4429.0          PVC   2018-05-17\n",
      "107       C      6521.0          PVC   2018-06-15\n",
      "112       C      4567.0          PVC   2018-06-22\n",
      "...     ...         ...          ...          ...\n",
      "133727    C     10351.0          PVC   2022-04-12\n",
      "133733    C      1197.0          PVC   2022-04-13\n",
      "133734    C      1197.0          PVC   2022-04-13\n",
      "133744    C      3431.0          PVC   2022-04-13\n",
      "133745    C      3431.0          PVC   2022-04-13\n",
      "\n",
      "[7538 rows x 4 columns]\n"
     ]
    }
   ],
   "source": [
    "df_ligne"
   ],
   "metadata": {
    "collapsed": false,
    "pycharm": {
     "name": "#%%\n"
    }
   }
  },
  {
   "cell_type": "code",
   "execution_count": 203,
   "outputs": [],
   "source": [],
   "metadata": {
    "collapsed": false,
    "pycharm": {
     "name": "#%%\n"
    }
   }
  },
  {
   "cell_type": "code",
   "execution_count": 203,
   "outputs": [],
   "source": [],
   "metadata": {
    "collapsed": false,
    "pycharm": {
     "name": "#%%\n"
    }
   }
  }
 ],
 "metadata": {
  "kernelspec": {
   "display_name": "Python 3",
   "language": "python",
   "name": "python3"
  },
  "language_info": {
   "codemirror_mode": {
    "name": "ipython",
    "version": 2
   },
   "file_extension": ".py",
   "mimetype": "text/x-python",
   "name": "python",
   "nbconvert_exporter": "python",
   "pygments_lexer": "ipython2",
   "version": "2.7.6"
  }
 },
 "nbformat": 4,
 "nbformat_minor": 0
}